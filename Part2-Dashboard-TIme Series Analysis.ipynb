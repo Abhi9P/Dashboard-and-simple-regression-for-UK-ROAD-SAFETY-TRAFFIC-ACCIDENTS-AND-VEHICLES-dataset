{
 "cells": [
  {
   "cell_type": "markdown",
   "id": "1e17a69b",
   "metadata": {},
   "source": [
    "# UK Road Safety Data Set"
   ]
  },
  {
   "cell_type": "markdown",
   "id": "be42274e",
   "metadata": {},
   "source": [
    "## Part 2 - Dashboard"
   ]
  },
  {
   "cell_type": "markdown",
   "id": "6056cdb4",
   "metadata": {},
   "source": [
    "## Uploading the data after cleaning and feature engineering"
   ]
  },
  {
   "cell_type": "code",
   "execution_count": 1,
   "id": "336ca78c",
   "metadata": {},
   "outputs": [],
   "source": [
    "import pandas as pd\n",
    "import numpy as np \n",
    "import matplotlib.pyplot as plt\n",
    "import seaborn as sns"
   ]
  },
  {
   "cell_type": "code",
   "execution_count": 2,
   "id": "f1cf78cf",
   "metadata": {},
   "outputs": [],
   "source": [
    "df= pd.read_csv('UK Road Safety cleaned data.csv')"
   ]
  },
  {
   "cell_type": "code",
   "execution_count": 3,
   "id": "d7bbfca0",
   "metadata": {},
   "outputs": [
    {
     "data": {
      "text/plain": [
       "Index(['1st_Road_Class', '1st_Road_Number', 'Accident_Severity',\n",
       "       'Carriageway_Hazards', 'Date', 'Day_of_Week',\n",
       "       'Did_Police_Officer_Attend_Scene_of_Accident', 'Junction_Control',\n",
       "       'Junction_Detail', 'Latitude', 'Light_Conditions', 'Longitude',\n",
       "       'LSOA_of_Accident_Location', 'Number_of_Casualties',\n",
       "       'Number_of_Vehicles', 'Pedestrian_Crossing-Human_Control',\n",
       "       'Pedestrian_Crossing-Physical_Facilities', 'Road_Surface_Conditions',\n",
       "       'Road_Type', 'Special_Conditions_at_Site', 'Speed_limit', 'Time',\n",
       "       'Urban_or_Rural_Area', 'Weather_Conditions', 'Year', 'InScotland'],\n",
       "      dtype='object')"
      ]
     },
     "execution_count": 3,
     "metadata": {},
     "output_type": "execute_result"
    }
   ],
   "source": [
    "df.columns"
   ]
  },
  {
   "cell_type": "code",
   "execution_count": 4,
   "id": "ab8496ac",
   "metadata": {},
   "outputs": [
    {
     "data": {
      "text/html": [
       "<div>\n",
       "<style scoped>\n",
       "    .dataframe tbody tr th:only-of-type {\n",
       "        vertical-align: middle;\n",
       "    }\n",
       "\n",
       "    .dataframe tbody tr th {\n",
       "        vertical-align: top;\n",
       "    }\n",
       "\n",
       "    .dataframe thead th {\n",
       "        text-align: right;\n",
       "    }\n",
       "</style>\n",
       "<table border=\"1\" class=\"dataframe\">\n",
       "  <thead>\n",
       "    <tr style=\"text-align: right;\">\n",
       "      <th></th>\n",
       "      <th>1st_Road_Number</th>\n",
       "      <th>Did_Police_Officer_Attend_Scene_of_Accident</th>\n",
       "      <th>Latitude</th>\n",
       "      <th>Longitude</th>\n",
       "      <th>Number_of_Casualties</th>\n",
       "      <th>Number_of_Vehicles</th>\n",
       "      <th>Pedestrian_Crossing-Human_Control</th>\n",
       "      <th>Pedestrian_Crossing-Physical_Facilities</th>\n",
       "      <th>Speed_limit</th>\n",
       "      <th>Year</th>\n",
       "    </tr>\n",
       "  </thead>\n",
       "  <tbody>\n",
       "    <tr>\n",
       "      <th>count</th>\n",
       "      <td>1.902303e+06</td>\n",
       "      <td>1.902303e+06</td>\n",
       "      <td>1.902303e+06</td>\n",
       "      <td>1.902303e+06</td>\n",
       "      <td>1.902303e+06</td>\n",
       "      <td>1.902303e+06</td>\n",
       "      <td>1.902303e+06</td>\n",
       "      <td>1.902303e+06</td>\n",
       "      <td>1.902303e+06</td>\n",
       "      <td>1.902303e+06</td>\n",
       "    </tr>\n",
       "    <tr>\n",
       "      <th>mean</th>\n",
       "      <td>1.005277e+03</td>\n",
       "      <td>1.205081e+00</td>\n",
       "      <td>5.231047e+01</td>\n",
       "      <td>-1.238110e+00</td>\n",
       "      <td>1.348534e+00</td>\n",
       "      <td>1.843022e+00</td>\n",
       "      <td>8.487081e-03</td>\n",
       "      <td>7.517288e-01</td>\n",
       "      <td>3.863659e+01</td>\n",
       "      <td>2.010553e+03</td>\n",
       "    </tr>\n",
       "    <tr>\n",
       "      <th>std</th>\n",
       "      <td>1.800420e+03</td>\n",
       "      <td>4.103535e-01</td>\n",
       "      <td>1.119097e+00</td>\n",
       "      <td>1.283559e+00</td>\n",
       "      <td>8.195977e-01</td>\n",
       "      <td>7.135347e-01</td>\n",
       "      <td>1.207529e-01</td>\n",
       "      <td>1.838287e+00</td>\n",
       "      <td>1.405026e+01</td>\n",
       "      <td>3.771350e+00</td>\n",
       "    </tr>\n",
       "    <tr>\n",
       "      <th>min</th>\n",
       "      <td>0.000000e+00</td>\n",
       "      <td>1.000000e+00</td>\n",
       "      <td>4.991294e+01</td>\n",
       "      <td>-6.317477e+00</td>\n",
       "      <td>1.000000e+00</td>\n",
       "      <td>1.000000e+00</td>\n",
       "      <td>0.000000e+00</td>\n",
       "      <td>0.000000e+00</td>\n",
       "      <td>0.000000e+00</td>\n",
       "      <td>2.005000e+03</td>\n",
       "    </tr>\n",
       "    <tr>\n",
       "      <th>25%</th>\n",
       "      <td>0.000000e+00</td>\n",
       "      <td>1.000000e+00</td>\n",
       "      <td>5.146863e+01</td>\n",
       "      <td>-2.130733e+00</td>\n",
       "      <td>1.000000e+00</td>\n",
       "      <td>1.000000e+00</td>\n",
       "      <td>0.000000e+00</td>\n",
       "      <td>0.000000e+00</td>\n",
       "      <td>3.000000e+01</td>\n",
       "      <td>2.007000e+03</td>\n",
       "    </tr>\n",
       "    <tr>\n",
       "      <th>50%</th>\n",
       "      <td>1.290000e+02</td>\n",
       "      <td>1.000000e+00</td>\n",
       "      <td>5.200587e+01</td>\n",
       "      <td>-1.222729e+00</td>\n",
       "      <td>1.000000e+00</td>\n",
       "      <td>2.000000e+00</td>\n",
       "      <td>0.000000e+00</td>\n",
       "      <td>0.000000e+00</td>\n",
       "      <td>3.000000e+01</td>\n",
       "      <td>2.010000e+03</td>\n",
       "    </tr>\n",
       "    <tr>\n",
       "      <th>75%</th>\n",
       "      <td>6.760000e+02</td>\n",
       "      <td>1.000000e+00</td>\n",
       "      <td>5.330845e+01</td>\n",
       "      <td>-1.748175e-01</td>\n",
       "      <td>1.000000e+00</td>\n",
       "      <td>2.000000e+00</td>\n",
       "      <td>0.000000e+00</td>\n",
       "      <td>0.000000e+00</td>\n",
       "      <td>5.000000e+01</td>\n",
       "      <td>2.014000e+03</td>\n",
       "    </tr>\n",
       "    <tr>\n",
       "      <th>max</th>\n",
       "      <td>9.999000e+03</td>\n",
       "      <td>3.000000e+00</td>\n",
       "      <td>6.058659e+01</td>\n",
       "      <td>1.762010e+00</td>\n",
       "      <td>9.300000e+01</td>\n",
       "      <td>6.700000e+01</td>\n",
       "      <td>2.000000e+00</td>\n",
       "      <td>8.000000e+00</td>\n",
       "      <td>7.000000e+01</td>\n",
       "      <td>2.017000e+03</td>\n",
       "    </tr>\n",
       "  </tbody>\n",
       "</table>\n",
       "</div>"
      ],
      "text/plain": [
       "       1st_Road_Number  Did_Police_Officer_Attend_Scene_of_Accident  \\\n",
       "count     1.902303e+06                                 1.902303e+06   \n",
       "mean      1.005277e+03                                 1.205081e+00   \n",
       "std       1.800420e+03                                 4.103535e-01   \n",
       "min       0.000000e+00                                 1.000000e+00   \n",
       "25%       0.000000e+00                                 1.000000e+00   \n",
       "50%       1.290000e+02                                 1.000000e+00   \n",
       "75%       6.760000e+02                                 1.000000e+00   \n",
       "max       9.999000e+03                                 3.000000e+00   \n",
       "\n",
       "           Latitude     Longitude  Number_of_Casualties  Number_of_Vehicles  \\\n",
       "count  1.902303e+06  1.902303e+06          1.902303e+06        1.902303e+06   \n",
       "mean   5.231047e+01 -1.238110e+00          1.348534e+00        1.843022e+00   \n",
       "std    1.119097e+00  1.283559e+00          8.195977e-01        7.135347e-01   \n",
       "min    4.991294e+01 -6.317477e+00          1.000000e+00        1.000000e+00   \n",
       "25%    5.146863e+01 -2.130733e+00          1.000000e+00        1.000000e+00   \n",
       "50%    5.200587e+01 -1.222729e+00          1.000000e+00        2.000000e+00   \n",
       "75%    5.330845e+01 -1.748175e-01          1.000000e+00        2.000000e+00   \n",
       "max    6.058659e+01  1.762010e+00          9.300000e+01        6.700000e+01   \n",
       "\n",
       "       Pedestrian_Crossing-Human_Control  \\\n",
       "count                       1.902303e+06   \n",
       "mean                        8.487081e-03   \n",
       "std                         1.207529e-01   \n",
       "min                         0.000000e+00   \n",
       "25%                         0.000000e+00   \n",
       "50%                         0.000000e+00   \n",
       "75%                         0.000000e+00   \n",
       "max                         2.000000e+00   \n",
       "\n",
       "       Pedestrian_Crossing-Physical_Facilities   Speed_limit          Year  \n",
       "count                             1.902303e+06  1.902303e+06  1.902303e+06  \n",
       "mean                              7.517288e-01  3.863659e+01  2.010553e+03  \n",
       "std                               1.838287e+00  1.405026e+01  3.771350e+00  \n",
       "min                               0.000000e+00  0.000000e+00  2.005000e+03  \n",
       "25%                               0.000000e+00  3.000000e+01  2.007000e+03  \n",
       "50%                               0.000000e+00  3.000000e+01  2.010000e+03  \n",
       "75%                               0.000000e+00  5.000000e+01  2.014000e+03  \n",
       "max                               8.000000e+00  7.000000e+01  2.017000e+03  "
      ]
     },
     "execution_count": 4,
     "metadata": {},
     "output_type": "execute_result"
    }
   ],
   "source": [
    "df.describe()"
   ]
  },
  {
   "cell_type": "markdown",
   "id": "701c7374",
   "metadata": {},
   "source": [
    "###  Road Accidents in the UK over specific time period."
   ]
  },
  {
   "cell_type": "code",
   "execution_count": 5,
   "id": "2fbdab39",
   "metadata": {
    "scrolled": false
   },
   "outputs": [
    {
     "name": "stderr",
     "output_type": "stream",
     "text": [
      "C:\\Users\\abhin\\AppData\\Local\\Temp\\ipykernel_2748\\3822179843.py:3: UserWarning: \n",
      "The dash_core_components package is deprecated. Please replace\n",
      "`import dash_core_components as dcc` with `from dash import dcc`\n",
      "  import dash_core_components as dcc\n",
      "C:\\Users\\abhin\\AppData\\Local\\Temp\\ipykernel_2748\\3822179843.py:4: UserWarning: \n",
      "The dash_html_components package is deprecated. Please replace\n",
      "`import dash_html_components as html` with `from dash import html`\n",
      "  import dash_html_components as html\n"
     ]
    }
   ],
   "source": [
    "import plotly.express as px\n",
    "import dash\n",
    "import dash_core_components as dcc\n",
    "import dash_html_components as html\n",
    "from dash.dependencies import Input, Output"
   ]
  },
  {
   "cell_type": "code",
   "execution_count": 6,
   "id": "f2681e86",
   "metadata": {},
   "outputs": [],
   "source": [
    "# Total accidents by year"
   ]
  },
  {
   "cell_type": "code",
   "execution_count": 7,
   "id": "d0301e3d",
   "metadata": {},
   "outputs": [],
   "source": [
    "# Convert 'Date' and 'Time' columns to datetime format\n",
    "df[\"Date\"] = pd.to_datetime(df[\"Date\"])\n",
    "df[\"Time\"] = pd.to_datetime(df[\"Time\"], format=\"%H:%M:%S\")\n",
    "\n",
    "# Extract year from 'Date' column and create new 'Year' column\n",
    "df[\"Year\"] = df[\"Date\"].dt.year\n",
    "\n",
    "# Create charts\n",
    "accidents_by_year_linegraph = px.line(df.groupby(\"Year\").size().reset_index(name=\"Total Accidents\"), x=\"Year\", y=\"Total Accidents\", title=\"Total Accidents by Year\")\n",
    "\n",
    "severity_counts_pie = px.pie(df, names=\"Accident_Severity\", title=\"Accident Severity Counts\")\n",
    "\n",
    "urban_vs_rural_histo = px.histogram(df, x=\"Urban_or_Rural_Area\", color=\"Accident_Severity\", title=\"Accidents by Urban vs Rural Area\")\n",
    "\n",
    "\n",
    "month_of_year_bargraph = px.bar(df.groupby(df[\"Date\"].dt.strftime(\"%B\")).size().reset_index(name=\"Count\"), x=\"Date\", y=\"Count\", title=\"Accidents by Month\")\n",
    "\n",
    "\n",
    "# Create pivot table with accidents by month and day of week\n",
    "df_pivot = pd.pivot_table(df, values='Accident_Severity', index=df['Date'].dt.month_name(), columns=df['Day_of_Week'], aggfunc='count')\n",
    "\n",
    "# Create pivot table with accidents by hour of day and day of week\n",
    "df_pivot_hour = pd.pivot_table(df, values='Accident_Severity', index=df['Date'].dt.hour, columns=df['Day_of_Week'], aggfunc='count')\n",
    "\n",
    "accidents_by_hour_bargraph = px.bar(df_pivot_hour, barmode=\"group\", title=\"Accidents by Hour of Day and Day of Week\")\n",
    "\n",
    "\n"
   ]
  },
  {
   "cell_type": "code",
   "execution_count": 8,
   "id": "6e985858",
   "metadata": {},
   "outputs": [],
   "source": [
    "# Create app layout\n",
    "app = dash.Dash(__name__)\n",
    "app.layout = html.Div(children=[\n",
    "    dcc.RangeSlider(\n",
    "        id='year-slider',\n",
    "        min=df['Year'].min(),\n",
    "        max=df['Year'].max(),\n",
    "        value=[2005, 2015],\n",
    "        marks={str(year): str(year) for year in df['Year'].unique()},\n",
    "        step=None\n",
    "    ),\n",
    "    html.Br(),\n",
    "    html.H1(children=\"UK Road Accidents Dashboard\"),\n",
    "    dcc.Graph(id=\"line-chart\", figure=accidents_by_year_linegraph),\n",
    "    dcc.Graph(id=\"pie-chart\", figure=severity_counts_pie),\n",
    "    dcc.Graph(id=\"histogram\", figure=urban_vs_rural_histo),\n",
    "    dcc.Graph(id=\"month-of-year-bargraph\", figure=month_of_year_bargraph),\n",
    "    dcc.Graph(id=\"pivot-table\", figure=px.imshow(df_pivot, x=df_pivot.columns, y=df_pivot.index, title=\"Accidents by Month and Day of Week\")),\n",
    "    dcc.Graph(id=\"bar-chart-hour\", figure=accidents_by_hour_bargraph)\n",
    "])"
   ]
  },
  {
   "cell_type": "code",
   "execution_count": 9,
   "id": "c354d525",
   "metadata": {},
   "outputs": [],
   "source": [
    "# Define callback to update graphs\n",
    "@app.callback(\n",
    "    [Output(\"line-chart\", \"figure\"), Output(\"pie-chart\", \"figure\"), Output(\"histogram\", \"figure\"), Output(\"month-of-year-bargraph\", \"figure\"), Output(\"pivot-table\", \"figure\"), Output(\"bar-chart-hour\", \"figure\")],\n",
    "    [Input(\"year-slider\", \"value\")]\n",
    ")\n",
    "def update_graphs(year_range):\n",
    "    filtered_df = df[(df[\"Year\"] >= year_range[0]) & (df[\"Year\"] <= year_range[1])]\n",
    "    \n",
    "    updated_accidents_by_year = px.line(filtered_df.groupby(\"Year\").size().reset_index(name=\"Total Accidents\"), x=\"Year\", y=\"Total Accidents\", title=\"Total Accidents by Year\")\n",
    "    \n",
    "    updated_severity_counts = px.pie(filtered_df, names=\"Accident_Severity\", title=\"Accident Severity Counts\")\n",
    "    \n",
    "    updated_urban_vs_rural = px.histogram(filtered_df, x=\"Urban_or_Rural_Area\", color=\"Accident_Severity\", title=\"Accidents by Urban vs Rural Area\")\n",
    "    \n",
    "\n",
    "    updated_month_of_year = px.bar(filtered_df.groupby(filtered_df[\"Date\"].dt.strftime(\"%B\")).size().reset_index(name=\"Count\"), x=\"Date\", y=\"Count\", title=\"Accidents by Month\")\n",
    "\n",
    "    \n",
    "    df_pivot = pd.pivot_table(filtered_df, values='Accident_Severity', index=filtered_df['Date'].dt.month_name(), \n",
    "                              columns=filtered_df['Day_of_Week'], aggfunc='count')\n",
    "    \n",
    "    df_pivot_hour = pd.pivot_table(filtered_df, values='Accident_Severity', index=filtered_df['Date'].dt.hour, columns=filtered_df['Day_of_Week'], aggfunc='count')\n",
    "    \n",
    "    updated_accidents_by_month_day = px.imshow(df_pivot, x=df_pivot.columns, y=df_pivot.index, \n",
    "                                                title=\"Accidents by Month and Day of Week\")\n",
    "    updated_accidents_by_hour = px.bar(df_pivot_hour, barmode=\"group\", title=\"Accidents by Hour of Day and Day of Week\")\n",
    "    \n",
    "    return updated_accidents_by_year, updated_severity_counts, updated_urban_vs_rural, updated_month_of_year, updated_accidents_by_month_day, updated_accidents_by_hour\n"
   ]
  },
  {
   "cell_type": "code",
   "execution_count": 10,
   "id": "ca74baaa",
   "metadata": {},
   "outputs": [
    {
     "name": "stdout",
     "output_type": "stream",
     "text": [
      "Dash is running on http://127.0.0.1:8050/\n",
      "\n",
      " * Serving Flask app \"__main__\" (lazy loading)\n",
      " * Environment: production\n",
      "\u001b[31m   WARNING: This is a development server. Do not use it in a production deployment.\u001b[0m\n",
      "\u001b[2m   Use a production WSGI server instead.\u001b[0m\n",
      " * Debug mode: off\n"
     ]
    },
    {
     "name": "stderr",
     "output_type": "stream",
     "text": [
      " * Running on http://127.0.0.1:8050/ (Press CTRL+C to quit)\n",
      "127.0.0.1 - - [25/Apr/2023 05:47:03] \"GET / HTTP/1.1\" 200 -\n",
      "127.0.0.1 - - [25/Apr/2023 05:47:04] \"GET /_dash-dependencies HTTP/1.1\" 200 -\n",
      "127.0.0.1 - - [25/Apr/2023 05:47:07] \"GET /_dash-layout HTTP/1.1\" 200 -\n",
      "127.0.0.1 - - [25/Apr/2023 05:47:07] \"GET /_dash-component-suites/dash/dcc/async-graph.js HTTP/1.1\" 200 -\n",
      "127.0.0.1 - - [25/Apr/2023 05:47:07] \"GET /_dash-component-suites/dash/dcc/async-slider.js HTTP/1.1\" 200 -\n",
      "127.0.0.1 - - [25/Apr/2023 05:47:07] \"GET /_dash-component-suites/dash/dcc/async-plotlyjs.js HTTP/1.1\" 200 -\n",
      "127.0.0.1 - - [25/Apr/2023 05:47:45] \"POST /_dash-update-component HTTP/1.1\" 200 -\n",
      "127.0.0.1 - - [25/Apr/2023 05:47:48] \"POST /_dash-update-component HTTP/1.1\" 200 -\n",
      "127.0.0.1 - - [25/Apr/2023 05:48:13] \"POST /_dash-update-component HTTP/1.1\" 200 -\n",
      "127.0.0.1 - - [25/Apr/2023 05:49:17] \"POST /_dash-update-component HTTP/1.1\" 200 -\n"
     ]
    }
   ],
   "source": [
    "# Run app\n",
    "if __name__ == \"__main__\":\n",
    "    app.run_server()\n",
    "    \n",
    "#note when using slider, it takes time to get the output(min 2 minutes)."
   ]
  },
  {
   "cell_type": "markdown",
   "id": "424d33a7",
   "metadata": {},
   "source": [
    "This dashboard summarizes the information about road accidents in the UK.I have created 4 graph which will help us visualize the information.The dashboard includes four charts that display different aspects of the data:\n",
    "- A line chart showing the total number of accidents by year.\n",
    "- A pie chart showing the distribution of accidents by severity level.\n",
    "- A histogram showing the distribution of accidents by urban or rural area, with different severity levels represented by different colors(BLUE-Slight,RED-Serious,GREEN-Fatal).\n",
    "- A bar chart showing the number of accidents by day of the week.\n",
    "- A heatmap of accidents by month and day of the week.\n",
    "- A grouped bar chart of accidents by hour of the day and day of the week. "
   ]
  }
 ],
 "metadata": {
  "kernelspec": {
   "display_name": "Python 3 (ipykernel)",
   "language": "python",
   "name": "python3"
  },
  "language_info": {
   "codemirror_mode": {
    "name": "ipython",
    "version": 3
   },
   "file_extension": ".py",
   "mimetype": "text/x-python",
   "name": "python",
   "nbconvert_exporter": "python",
   "pygments_lexer": "ipython3",
   "version": "3.9.13"
  }
 },
 "nbformat": 4,
 "nbformat_minor": 5
}

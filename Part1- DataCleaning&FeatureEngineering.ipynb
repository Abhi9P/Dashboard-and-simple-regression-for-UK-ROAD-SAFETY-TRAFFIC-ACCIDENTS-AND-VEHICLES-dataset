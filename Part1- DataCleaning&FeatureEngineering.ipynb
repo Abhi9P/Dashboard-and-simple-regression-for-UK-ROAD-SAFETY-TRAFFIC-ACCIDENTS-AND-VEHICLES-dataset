{
 "cells": [
  {
   "cell_type": "markdown",
   "id": "3f16570d",
   "metadata": {},
   "source": [
    "# UK Road Safety: Traffic Accidents and Vehicles"
   ]
  },
  {
   "cell_type": "markdown",
   "id": "85976cd7",
   "metadata": {},
   "source": [
    "## PART - 1 - Data Cleaning and Feature Engineering"
   ]
  },
  {
   "cell_type": "markdown",
   "id": "ca95542d",
   "metadata": {},
   "source": [
    " Dataset Link - https://www.kaggle.com/datasets/tsiaras/uk-road-safety-accidents-and-vehicles"
   ]
  },
  {
   "cell_type": "markdown",
   "id": "8f62f869",
   "metadata": {},
   "source": [
    "### Uploading Data"
   ]
  },
  {
   "cell_type": "code",
   "execution_count": 1,
   "id": "b616d5ac",
   "metadata": {},
   "outputs": [],
   "source": [
    "import pandas as pd\n",
    "import numpy as np \n",
    "import matplotlib.pyplot as plt\n",
    "import seaborn as sns"
   ]
  },
  {
   "cell_type": "code",
   "execution_count": 2,
   "id": "38fee9ba",
   "metadata": {},
   "outputs": [],
   "source": [
    "# read a csv file \n",
    "df = pd.read_csv('Accident_Information.csv', header=0, encoding='unicode_escape', low_memory=False)\n"
   ]
  },
  {
   "cell_type": "markdown",
   "id": "ba80db30",
   "metadata": {},
   "source": [
    "### Interpreting and understanding the data"
   ]
  },
  {
   "cell_type": "code",
   "execution_count": 3,
   "id": "2f6fbb84",
   "metadata": {},
   "outputs": [
    {
     "data": {
      "text/html": [
       "<div>\n",
       "<style scoped>\n",
       "    .dataframe tbody tr th:only-of-type {\n",
       "        vertical-align: middle;\n",
       "    }\n",
       "\n",
       "    .dataframe tbody tr th {\n",
       "        vertical-align: top;\n",
       "    }\n",
       "\n",
       "    .dataframe thead th {\n",
       "        text-align: right;\n",
       "    }\n",
       "</style>\n",
       "<table border=\"1\" class=\"dataframe\">\n",
       "  <thead>\n",
       "    <tr style=\"text-align: right;\">\n",
       "      <th></th>\n",
       "      <th>Accident_Index</th>\n",
       "      <th>1st_Road_Class</th>\n",
       "      <th>1st_Road_Number</th>\n",
       "      <th>2nd_Road_Class</th>\n",
       "      <th>2nd_Road_Number</th>\n",
       "      <th>Accident_Severity</th>\n",
       "      <th>Carriageway_Hazards</th>\n",
       "      <th>Date</th>\n",
       "      <th>Day_of_Week</th>\n",
       "      <th>Did_Police_Officer_Attend_Scene_of_Accident</th>\n",
       "      <th>...</th>\n",
       "      <th>Police_Force</th>\n",
       "      <th>Road_Surface_Conditions</th>\n",
       "      <th>Road_Type</th>\n",
       "      <th>Special_Conditions_at_Site</th>\n",
       "      <th>Speed_limit</th>\n",
       "      <th>Time</th>\n",
       "      <th>Urban_or_Rural_Area</th>\n",
       "      <th>Weather_Conditions</th>\n",
       "      <th>Year</th>\n",
       "      <th>InScotland</th>\n",
       "    </tr>\n",
       "  </thead>\n",
       "  <tbody>\n",
       "    <tr>\n",
       "      <th>0</th>\n",
       "      <td>200501BS00001</td>\n",
       "      <td>A</td>\n",
       "      <td>3218.0</td>\n",
       "      <td>NaN</td>\n",
       "      <td>0.0</td>\n",
       "      <td>Serious</td>\n",
       "      <td>None</td>\n",
       "      <td>2005-01-04</td>\n",
       "      <td>Tuesday</td>\n",
       "      <td>1.0</td>\n",
       "      <td>...</td>\n",
       "      <td>Metropolitan Police</td>\n",
       "      <td>Wet or damp</td>\n",
       "      <td>Single carriageway</td>\n",
       "      <td>None</td>\n",
       "      <td>30.0</td>\n",
       "      <td>17:42</td>\n",
       "      <td>Urban</td>\n",
       "      <td>Raining no high winds</td>\n",
       "      <td>2005</td>\n",
       "      <td>No</td>\n",
       "    </tr>\n",
       "    <tr>\n",
       "      <th>1</th>\n",
       "      <td>200501BS00002</td>\n",
       "      <td>B</td>\n",
       "      <td>450.0</td>\n",
       "      <td>C</td>\n",
       "      <td>0.0</td>\n",
       "      <td>Slight</td>\n",
       "      <td>None</td>\n",
       "      <td>2005-01-05</td>\n",
       "      <td>Wednesday</td>\n",
       "      <td>1.0</td>\n",
       "      <td>...</td>\n",
       "      <td>Metropolitan Police</td>\n",
       "      <td>Dry</td>\n",
       "      <td>Dual carriageway</td>\n",
       "      <td>None</td>\n",
       "      <td>30.0</td>\n",
       "      <td>17:36</td>\n",
       "      <td>Urban</td>\n",
       "      <td>Fine no high winds</td>\n",
       "      <td>2005</td>\n",
       "      <td>No</td>\n",
       "    </tr>\n",
       "    <tr>\n",
       "      <th>2</th>\n",
       "      <td>200501BS00003</td>\n",
       "      <td>C</td>\n",
       "      <td>0.0</td>\n",
       "      <td>NaN</td>\n",
       "      <td>0.0</td>\n",
       "      <td>Slight</td>\n",
       "      <td>None</td>\n",
       "      <td>2005-01-06</td>\n",
       "      <td>Thursday</td>\n",
       "      <td>1.0</td>\n",
       "      <td>...</td>\n",
       "      <td>Metropolitan Police</td>\n",
       "      <td>Dry</td>\n",
       "      <td>Single carriageway</td>\n",
       "      <td>None</td>\n",
       "      <td>30.0</td>\n",
       "      <td>00:15</td>\n",
       "      <td>Urban</td>\n",
       "      <td>Fine no high winds</td>\n",
       "      <td>2005</td>\n",
       "      <td>No</td>\n",
       "    </tr>\n",
       "    <tr>\n",
       "      <th>3</th>\n",
       "      <td>200501BS00004</td>\n",
       "      <td>A</td>\n",
       "      <td>3220.0</td>\n",
       "      <td>NaN</td>\n",
       "      <td>0.0</td>\n",
       "      <td>Slight</td>\n",
       "      <td>None</td>\n",
       "      <td>2005-01-07</td>\n",
       "      <td>Friday</td>\n",
       "      <td>1.0</td>\n",
       "      <td>...</td>\n",
       "      <td>Metropolitan Police</td>\n",
       "      <td>Dry</td>\n",
       "      <td>Single carriageway</td>\n",
       "      <td>None</td>\n",
       "      <td>30.0</td>\n",
       "      <td>10:35</td>\n",
       "      <td>Urban</td>\n",
       "      <td>Fine no high winds</td>\n",
       "      <td>2005</td>\n",
       "      <td>No</td>\n",
       "    </tr>\n",
       "    <tr>\n",
       "      <th>4</th>\n",
       "      <td>200501BS00005</td>\n",
       "      <td>Unclassified</td>\n",
       "      <td>0.0</td>\n",
       "      <td>NaN</td>\n",
       "      <td>0.0</td>\n",
       "      <td>Slight</td>\n",
       "      <td>None</td>\n",
       "      <td>2005-01-10</td>\n",
       "      <td>Monday</td>\n",
       "      <td>1.0</td>\n",
       "      <td>...</td>\n",
       "      <td>Metropolitan Police</td>\n",
       "      <td>Wet or damp</td>\n",
       "      <td>Single carriageway</td>\n",
       "      <td>None</td>\n",
       "      <td>30.0</td>\n",
       "      <td>21:13</td>\n",
       "      <td>Urban</td>\n",
       "      <td>Fine no high winds</td>\n",
       "      <td>2005</td>\n",
       "      <td>No</td>\n",
       "    </tr>\n",
       "    <tr>\n",
       "      <th>5</th>\n",
       "      <td>200501BS00006</td>\n",
       "      <td>Unclassified</td>\n",
       "      <td>0.0</td>\n",
       "      <td>NaN</td>\n",
       "      <td>0.0</td>\n",
       "      <td>Slight</td>\n",
       "      <td>None</td>\n",
       "      <td>2005-01-11</td>\n",
       "      <td>Tuesday</td>\n",
       "      <td>1.0</td>\n",
       "      <td>...</td>\n",
       "      <td>Metropolitan Police</td>\n",
       "      <td>Wet or damp</td>\n",
       "      <td>Single carriageway</td>\n",
       "      <td>Oil or diesel</td>\n",
       "      <td>30.0</td>\n",
       "      <td>12:40</td>\n",
       "      <td>Urban</td>\n",
       "      <td>Raining no high winds</td>\n",
       "      <td>2005</td>\n",
       "      <td>No</td>\n",
       "    </tr>\n",
       "    <tr>\n",
       "      <th>6</th>\n",
       "      <td>200501BS00007</td>\n",
       "      <td>C</td>\n",
       "      <td>0.0</td>\n",
       "      <td>Unclassified</td>\n",
       "      <td>0.0</td>\n",
       "      <td>Slight</td>\n",
       "      <td>None</td>\n",
       "      <td>2005-01-13</td>\n",
       "      <td>Thursday</td>\n",
       "      <td>1.0</td>\n",
       "      <td>...</td>\n",
       "      <td>Metropolitan Police</td>\n",
       "      <td>Dry</td>\n",
       "      <td>Single carriageway</td>\n",
       "      <td>None</td>\n",
       "      <td>30.0</td>\n",
       "      <td>20:40</td>\n",
       "      <td>Urban</td>\n",
       "      <td>Fine no high winds</td>\n",
       "      <td>2005</td>\n",
       "      <td>No</td>\n",
       "    </tr>\n",
       "    <tr>\n",
       "      <th>7</th>\n",
       "      <td>200501BS00009</td>\n",
       "      <td>A</td>\n",
       "      <td>315.0</td>\n",
       "      <td>NaN</td>\n",
       "      <td>0.0</td>\n",
       "      <td>Slight</td>\n",
       "      <td>None</td>\n",
       "      <td>2005-01-14</td>\n",
       "      <td>Friday</td>\n",
       "      <td>1.0</td>\n",
       "      <td>...</td>\n",
       "      <td>Metropolitan Police</td>\n",
       "      <td>Dry</td>\n",
       "      <td>Dual carriageway</td>\n",
       "      <td>None</td>\n",
       "      <td>30.0</td>\n",
       "      <td>17:35</td>\n",
       "      <td>Urban</td>\n",
       "      <td>Fine no high winds</td>\n",
       "      <td>2005</td>\n",
       "      <td>No</td>\n",
       "    </tr>\n",
       "    <tr>\n",
       "      <th>8</th>\n",
       "      <td>200501BS00010</td>\n",
       "      <td>A</td>\n",
       "      <td>3212.0</td>\n",
       "      <td>B</td>\n",
       "      <td>304.0</td>\n",
       "      <td>Slight</td>\n",
       "      <td>None</td>\n",
       "      <td>2005-01-15</td>\n",
       "      <td>Saturday</td>\n",
       "      <td>1.0</td>\n",
       "      <td>...</td>\n",
       "      <td>Metropolitan Police</td>\n",
       "      <td>Dry</td>\n",
       "      <td>Single carriageway</td>\n",
       "      <td>None</td>\n",
       "      <td>30.0</td>\n",
       "      <td>22:43</td>\n",
       "      <td>Urban</td>\n",
       "      <td>Fine no high winds</td>\n",
       "      <td>2005</td>\n",
       "      <td>No</td>\n",
       "    </tr>\n",
       "    <tr>\n",
       "      <th>9</th>\n",
       "      <td>200501BS00011</td>\n",
       "      <td>B</td>\n",
       "      <td>450.0</td>\n",
       "      <td>C</td>\n",
       "      <td>0.0</td>\n",
       "      <td>Slight</td>\n",
       "      <td>None</td>\n",
       "      <td>2005-01-15</td>\n",
       "      <td>Saturday</td>\n",
       "      <td>1.0</td>\n",
       "      <td>...</td>\n",
       "      <td>Metropolitan Police</td>\n",
       "      <td>Dry</td>\n",
       "      <td>Single carriageway</td>\n",
       "      <td>None</td>\n",
       "      <td>30.0</td>\n",
       "      <td>16:00</td>\n",
       "      <td>Urban</td>\n",
       "      <td>Fine no high winds</td>\n",
       "      <td>2005</td>\n",
       "      <td>No</td>\n",
       "    </tr>\n",
       "  </tbody>\n",
       "</table>\n",
       "<p>10 rows × 34 columns</p>\n",
       "</div>"
      ],
      "text/plain": [
       "  Accident_Index 1st_Road_Class  1st_Road_Number 2nd_Road_Class  \\\n",
       "0  200501BS00001              A           3218.0            NaN   \n",
       "1  200501BS00002              B            450.0              C   \n",
       "2  200501BS00003              C              0.0            NaN   \n",
       "3  200501BS00004              A           3220.0            NaN   \n",
       "4  200501BS00005   Unclassified              0.0            NaN   \n",
       "5  200501BS00006   Unclassified              0.0            NaN   \n",
       "6  200501BS00007              C              0.0   Unclassified   \n",
       "7  200501BS00009              A            315.0            NaN   \n",
       "8  200501BS00010              A           3212.0              B   \n",
       "9  200501BS00011              B            450.0              C   \n",
       "\n",
       "   2nd_Road_Number Accident_Severity Carriageway_Hazards        Date  \\\n",
       "0              0.0           Serious                None  2005-01-04   \n",
       "1              0.0            Slight                None  2005-01-05   \n",
       "2              0.0            Slight                None  2005-01-06   \n",
       "3              0.0            Slight                None  2005-01-07   \n",
       "4              0.0            Slight                None  2005-01-10   \n",
       "5              0.0            Slight                None  2005-01-11   \n",
       "6              0.0            Slight                None  2005-01-13   \n",
       "7              0.0            Slight                None  2005-01-14   \n",
       "8            304.0            Slight                None  2005-01-15   \n",
       "9              0.0            Slight                None  2005-01-15   \n",
       "\n",
       "  Day_of_Week  Did_Police_Officer_Attend_Scene_of_Accident  ...  \\\n",
       "0     Tuesday                                          1.0  ...   \n",
       "1   Wednesday                                          1.0  ...   \n",
       "2    Thursday                                          1.0  ...   \n",
       "3      Friday                                          1.0  ...   \n",
       "4      Monday                                          1.0  ...   \n",
       "5     Tuesday                                          1.0  ...   \n",
       "6    Thursday                                          1.0  ...   \n",
       "7      Friday                                          1.0  ...   \n",
       "8    Saturday                                          1.0  ...   \n",
       "9    Saturday                                          1.0  ...   \n",
       "\n",
       "          Police_Force Road_Surface_Conditions           Road_Type  \\\n",
       "0  Metropolitan Police             Wet or damp  Single carriageway   \n",
       "1  Metropolitan Police                     Dry    Dual carriageway   \n",
       "2  Metropolitan Police                     Dry  Single carriageway   \n",
       "3  Metropolitan Police                     Dry  Single carriageway   \n",
       "4  Metropolitan Police             Wet or damp  Single carriageway   \n",
       "5  Metropolitan Police             Wet or damp  Single carriageway   \n",
       "6  Metropolitan Police                     Dry  Single carriageway   \n",
       "7  Metropolitan Police                     Dry    Dual carriageway   \n",
       "8  Metropolitan Police                     Dry  Single carriageway   \n",
       "9  Metropolitan Police                     Dry  Single carriageway   \n",
       "\n",
       "  Special_Conditions_at_Site Speed_limit   Time  Urban_or_Rural_Area  \\\n",
       "0                       None        30.0  17:42                Urban   \n",
       "1                       None        30.0  17:36                Urban   \n",
       "2                       None        30.0  00:15                Urban   \n",
       "3                       None        30.0  10:35                Urban   \n",
       "4                       None        30.0  21:13                Urban   \n",
       "5              Oil or diesel        30.0  12:40                Urban   \n",
       "6                       None        30.0  20:40                Urban   \n",
       "7                       None        30.0  17:35                Urban   \n",
       "8                       None        30.0  22:43                Urban   \n",
       "9                       None        30.0  16:00                Urban   \n",
       "\n",
       "      Weather_Conditions  Year InScotland  \n",
       "0  Raining no high winds  2005         No  \n",
       "1     Fine no high winds  2005         No  \n",
       "2     Fine no high winds  2005         No  \n",
       "3     Fine no high winds  2005         No  \n",
       "4     Fine no high winds  2005         No  \n",
       "5  Raining no high winds  2005         No  \n",
       "6     Fine no high winds  2005         No  \n",
       "7     Fine no high winds  2005         No  \n",
       "8     Fine no high winds  2005         No  \n",
       "9     Fine no high winds  2005         No  \n",
       "\n",
       "[10 rows x 34 columns]"
      ]
     },
     "execution_count": 3,
     "metadata": {},
     "output_type": "execute_result"
    }
   ],
   "source": [
    "# Display the first 10 rows of the dataframe\n",
    "df.head(10)"
   ]
  },
  {
   "cell_type": "code",
   "execution_count": 4,
   "id": "113445b6",
   "metadata": {},
   "outputs": [
    {
     "data": {
      "text/plain": [
       "(2047256, 34)"
      ]
     },
     "execution_count": 4,
     "metadata": {},
     "output_type": "execute_result"
    }
   ],
   "source": [
    "df.shape"
   ]
  },
  {
   "cell_type": "code",
   "execution_count": 5,
   "id": "6e62eb25",
   "metadata": {},
   "outputs": [
    {
     "data": {
      "text/html": [
       "<div>\n",
       "<style scoped>\n",
       "    .dataframe tbody tr th:only-of-type {\n",
       "        vertical-align: middle;\n",
       "    }\n",
       "\n",
       "    .dataframe tbody tr th {\n",
       "        vertical-align: top;\n",
       "    }\n",
       "\n",
       "    .dataframe thead th {\n",
       "        text-align: right;\n",
       "    }\n",
       "</style>\n",
       "<table border=\"1\" class=\"dataframe\">\n",
       "  <thead>\n",
       "    <tr style=\"text-align: right;\">\n",
       "      <th></th>\n",
       "      <th>1st_Road_Number</th>\n",
       "      <th>2nd_Road_Number</th>\n",
       "      <th>Did_Police_Officer_Attend_Scene_of_Accident</th>\n",
       "      <th>Latitude</th>\n",
       "      <th>Location_Easting_OSGR</th>\n",
       "      <th>Location_Northing_OSGR</th>\n",
       "      <th>Longitude</th>\n",
       "      <th>Number_of_Casualties</th>\n",
       "      <th>Number_of_Vehicles</th>\n",
       "      <th>Pedestrian_Crossing-Human_Control</th>\n",
       "      <th>Pedestrian_Crossing-Physical_Facilities</th>\n",
       "      <th>Speed_limit</th>\n",
       "      <th>Year</th>\n",
       "    </tr>\n",
       "  </thead>\n",
       "  <tbody>\n",
       "    <tr>\n",
       "      <th>count</th>\n",
       "      <td>2.047254e+06</td>\n",
       "      <td>2.029663e+06</td>\n",
       "      <td>2.046978e+06</td>\n",
       "      <td>2.047082e+06</td>\n",
       "      <td>2.047092e+06</td>\n",
       "      <td>2.047092e+06</td>\n",
       "      <td>2.047081e+06</td>\n",
       "      <td>2.047256e+06</td>\n",
       "      <td>2.047256e+06</td>\n",
       "      <td>2.044336e+06</td>\n",
       "      <td>2.043696e+06</td>\n",
       "      <td>2.047219e+06</td>\n",
       "      <td>2.047256e+06</td>\n",
       "    </tr>\n",
       "    <tr>\n",
       "      <th>mean</th>\n",
       "      <td>9.921051e+02</td>\n",
       "      <td>3.728153e+02</td>\n",
       "      <td>1.202319e+00</td>\n",
       "      <td>5.255978e+01</td>\n",
       "      <td>4.414462e+05</td>\n",
       "      <td>2.968855e+05</td>\n",
       "      <td>-1.410155e+00</td>\n",
       "      <td>1.345843e+00</td>\n",
       "      <td>1.833525e+00</td>\n",
       "      <td>1.041707e-02</td>\n",
       "      <td>7.518021e-01</td>\n",
       "      <td>3.884360e+01</td>\n",
       "      <td>2.010524e+03</td>\n",
       "    </tr>\n",
       "    <tr>\n",
       "      <th>std</th>\n",
       "      <td>1.809408e+03</td>\n",
       "      <td>1.287796e+03</td>\n",
       "      <td>4.081935e-01</td>\n",
       "      <td>1.445506e+00</td>\n",
       "      <td>9.549620e+04</td>\n",
       "      <td>1.605273e+05</td>\n",
       "      <td>1.403532e+00</td>\n",
       "      <td>8.179627e-01</td>\n",
       "      <td>7.150543e-01</td>\n",
       "      <td>1.351126e-01</td>\n",
       "      <td>1.835289e+00</td>\n",
       "      <td>1.414791e+01</td>\n",
       "      <td>3.765624e+00</td>\n",
       "    </tr>\n",
       "    <tr>\n",
       "      <th>min</th>\n",
       "      <td>0.000000e+00</td>\n",
       "      <td>0.000000e+00</td>\n",
       "      <td>1.000000e+00</td>\n",
       "      <td>4.991294e+01</td>\n",
       "      <td>6.495000e+04</td>\n",
       "      <td>1.029000e+04</td>\n",
       "      <td>-7.516225e+00</td>\n",
       "      <td>1.000000e+00</td>\n",
       "      <td>1.000000e+00</td>\n",
       "      <td>0.000000e+00</td>\n",
       "      <td>0.000000e+00</td>\n",
       "      <td>0.000000e+00</td>\n",
       "      <td>2.005000e+03</td>\n",
       "    </tr>\n",
       "    <tr>\n",
       "      <th>25%</th>\n",
       "      <td>0.000000e+00</td>\n",
       "      <td>0.000000e+00</td>\n",
       "      <td>1.000000e+00</td>\n",
       "      <td>5.148540e+01</td>\n",
       "      <td>3.780635e+05</td>\n",
       "      <td>1.777568e+05</td>\n",
       "      <td>-2.329610e+00</td>\n",
       "      <td>1.000000e+00</td>\n",
       "      <td>1.000000e+00</td>\n",
       "      <td>0.000000e+00</td>\n",
       "      <td>0.000000e+00</td>\n",
       "      <td>3.000000e+01</td>\n",
       "      <td>2.007000e+03</td>\n",
       "    </tr>\n",
       "    <tr>\n",
       "      <th>50%</th>\n",
       "      <td>1.180000e+02</td>\n",
       "      <td>0.000000e+00</td>\n",
       "      <td>1.000000e+00</td>\n",
       "      <td>5.223758e+01</td>\n",
       "      <td>4.430500e+05</td>\n",
       "      <td>2.611835e+05</td>\n",
       "      <td>-1.362233e+00</td>\n",
       "      <td>1.000000e+00</td>\n",
       "      <td>2.000000e+00</td>\n",
       "      <td>0.000000e+00</td>\n",
       "      <td>0.000000e+00</td>\n",
       "      <td>3.000000e+01</td>\n",
       "      <td>2.010000e+03</td>\n",
       "    </tr>\n",
       "    <tr>\n",
       "      <th>75%</th>\n",
       "      <td>7.020000e+02</td>\n",
       "      <td>0.000000e+00</td>\n",
       "      <td>1.000000e+00</td>\n",
       "      <td>5.345590e+01</td>\n",
       "      <td>5.242982e+05</td>\n",
       "      <td>3.956100e+05</td>\n",
       "      <td>-2.052600e-01</td>\n",
       "      <td>1.000000e+00</td>\n",
       "      <td>2.000000e+00</td>\n",
       "      <td>0.000000e+00</td>\n",
       "      <td>0.000000e+00</td>\n",
       "      <td>5.000000e+01</td>\n",
       "      <td>2.014000e+03</td>\n",
       "    </tr>\n",
       "    <tr>\n",
       "      <th>max</th>\n",
       "      <td>9.999000e+03</td>\n",
       "      <td>9.999000e+03</td>\n",
       "      <td>3.000000e+00</td>\n",
       "      <td>6.075754e+01</td>\n",
       "      <td>6.555400e+05</td>\n",
       "      <td>1.208800e+06</td>\n",
       "      <td>1.762010e+00</td>\n",
       "      <td>9.300000e+01</td>\n",
       "      <td>6.700000e+01</td>\n",
       "      <td>2.000000e+00</td>\n",
       "      <td>8.000000e+00</td>\n",
       "      <td>7.000000e+01</td>\n",
       "      <td>2.017000e+03</td>\n",
       "    </tr>\n",
       "  </tbody>\n",
       "</table>\n",
       "</div>"
      ],
      "text/plain": [
       "       1st_Road_Number  2nd_Road_Number  \\\n",
       "count     2.047254e+06     2.029663e+06   \n",
       "mean      9.921051e+02     3.728153e+02   \n",
       "std       1.809408e+03     1.287796e+03   \n",
       "min       0.000000e+00     0.000000e+00   \n",
       "25%       0.000000e+00     0.000000e+00   \n",
       "50%       1.180000e+02     0.000000e+00   \n",
       "75%       7.020000e+02     0.000000e+00   \n",
       "max       9.999000e+03     9.999000e+03   \n",
       "\n",
       "       Did_Police_Officer_Attend_Scene_of_Accident      Latitude  \\\n",
       "count                                 2.046978e+06  2.047082e+06   \n",
       "mean                                  1.202319e+00  5.255978e+01   \n",
       "std                                   4.081935e-01  1.445506e+00   \n",
       "min                                   1.000000e+00  4.991294e+01   \n",
       "25%                                   1.000000e+00  5.148540e+01   \n",
       "50%                                   1.000000e+00  5.223758e+01   \n",
       "75%                                   1.000000e+00  5.345590e+01   \n",
       "max                                   3.000000e+00  6.075754e+01   \n",
       "\n",
       "       Location_Easting_OSGR  Location_Northing_OSGR     Longitude  \\\n",
       "count           2.047092e+06            2.047092e+06  2.047081e+06   \n",
       "mean            4.414462e+05            2.968855e+05 -1.410155e+00   \n",
       "std             9.549620e+04            1.605273e+05  1.403532e+00   \n",
       "min             6.495000e+04            1.029000e+04 -7.516225e+00   \n",
       "25%             3.780635e+05            1.777568e+05 -2.329610e+00   \n",
       "50%             4.430500e+05            2.611835e+05 -1.362233e+00   \n",
       "75%             5.242982e+05            3.956100e+05 -2.052600e-01   \n",
       "max             6.555400e+05            1.208800e+06  1.762010e+00   \n",
       "\n",
       "       Number_of_Casualties  Number_of_Vehicles  \\\n",
       "count          2.047256e+06        2.047256e+06   \n",
       "mean           1.345843e+00        1.833525e+00   \n",
       "std            8.179627e-01        7.150543e-01   \n",
       "min            1.000000e+00        1.000000e+00   \n",
       "25%            1.000000e+00        1.000000e+00   \n",
       "50%            1.000000e+00        2.000000e+00   \n",
       "75%            1.000000e+00        2.000000e+00   \n",
       "max            9.300000e+01        6.700000e+01   \n",
       "\n",
       "       Pedestrian_Crossing-Human_Control  \\\n",
       "count                       2.044336e+06   \n",
       "mean                        1.041707e-02   \n",
       "std                         1.351126e-01   \n",
       "min                         0.000000e+00   \n",
       "25%                         0.000000e+00   \n",
       "50%                         0.000000e+00   \n",
       "75%                         0.000000e+00   \n",
       "max                         2.000000e+00   \n",
       "\n",
       "       Pedestrian_Crossing-Physical_Facilities   Speed_limit          Year  \n",
       "count                             2.043696e+06  2.047219e+06  2.047256e+06  \n",
       "mean                              7.518021e-01  3.884360e+01  2.010524e+03  \n",
       "std                               1.835289e+00  1.414791e+01  3.765624e+00  \n",
       "min                               0.000000e+00  0.000000e+00  2.005000e+03  \n",
       "25%                               0.000000e+00  3.000000e+01  2.007000e+03  \n",
       "50%                               0.000000e+00  3.000000e+01  2.010000e+03  \n",
       "75%                               0.000000e+00  5.000000e+01  2.014000e+03  \n",
       "max                               8.000000e+00  7.000000e+01  2.017000e+03  "
      ]
     },
     "execution_count": 5,
     "metadata": {},
     "output_type": "execute_result"
    }
   ],
   "source": [
    "df.describe() #describe the data"
   ]
  },
  {
   "cell_type": "code",
   "execution_count": 6,
   "id": "7d082978",
   "metadata": {},
   "outputs": [
    {
     "data": {
      "text/plain": [
       "Accident_Index                                  object\n",
       "1st_Road_Class                                  object\n",
       "1st_Road_Number                                float64\n",
       "2nd_Road_Class                                  object\n",
       "2nd_Road_Number                                float64\n",
       "Accident_Severity                               object\n",
       "Carriageway_Hazards                             object\n",
       "Date                                            object\n",
       "Day_of_Week                                     object\n",
       "Did_Police_Officer_Attend_Scene_of_Accident    float64\n",
       "Junction_Control                                object\n",
       "Junction_Detail                                 object\n",
       "Latitude                                       float64\n",
       "Light_Conditions                                object\n",
       "Local_Authority_(District)                      object\n",
       "Local_Authority_(Highway)                       object\n",
       "Location_Easting_OSGR                          float64\n",
       "Location_Northing_OSGR                         float64\n",
       "Longitude                                      float64\n",
       "LSOA_of_Accident_Location                       object\n",
       "Number_of_Casualties                             int64\n",
       "Number_of_Vehicles                               int64\n",
       "Pedestrian_Crossing-Human_Control              float64\n",
       "Pedestrian_Crossing-Physical_Facilities        float64\n",
       "Police_Force                                    object\n",
       "Road_Surface_Conditions                         object\n",
       "Road_Type                                       object\n",
       "Special_Conditions_at_Site                      object\n",
       "Speed_limit                                    float64\n",
       "Time                                            object\n",
       "Urban_or_Rural_Area                             object\n",
       "Weather_Conditions                              object\n",
       "Year                                             int64\n",
       "InScotland                                      object\n",
       "dtype: object"
      ]
     },
     "execution_count": 6,
     "metadata": {},
     "output_type": "execute_result"
    }
   ],
   "source": [
    "df.dtypes #check data types of each column"
   ]
  },
  {
   "cell_type": "code",
   "execution_count": 7,
   "id": "b37a2356",
   "metadata": {},
   "outputs": [
    {
     "data": {
      "text/plain": [
       "Accident_Index                object\n",
       "1st_Road_Class                object\n",
       "2nd_Road_Class                object\n",
       "Accident_Severity             object\n",
       "Carriageway_Hazards           object\n",
       "Date                          object\n",
       "Day_of_Week                   object\n",
       "Junction_Control              object\n",
       "Junction_Detail               object\n",
       "Light_Conditions              object\n",
       "Local_Authority_(District)    object\n",
       "Local_Authority_(Highway)     object\n",
       "LSOA_of_Accident_Location     object\n",
       "Police_Force                  object\n",
       "Road_Surface_Conditions       object\n",
       "Road_Type                     object\n",
       "Special_Conditions_at_Site    object\n",
       "Time                          object\n",
       "Urban_or_Rural_Area           object\n",
       "Weather_Conditions            object\n",
       "InScotland                    object\n",
       "dtype: object"
      ]
     },
     "execution_count": 7,
     "metadata": {},
     "output_type": "execute_result"
    }
   ],
   "source": [
    "# Identifying variables with object datatype\n",
    "df.dtypes[df.dtypes == 'object']"
   ]
  },
  {
   "cell_type": "code",
   "execution_count": 8,
   "id": "356cc1b5",
   "metadata": {},
   "outputs": [],
   "source": [
    "#typecasting object data type feature to category type\n",
    "\n",
    "df['Accident_Severity'] = df['Accident_Severity'].astype('category')\n",
    "df['Day_of_Week'] = df['Day_of_Week'].astype('category')\n",
    "df['Road_Type'] = df['Road_Type'].astype('category')\n",
    "df['Weather_Conditions'] = df['Weather_Conditions'].astype('category')\n",
    "df['Road_Surface_Conditions'] = df['Road_Surface_Conditions'].astype('category')\n",
    "df['Light_Conditions'] = df['Light_Conditions'].astype('category')\n",
    "df['Special_Conditions_at_Site'] = df['Special_Conditions_at_Site'].astype('category')\n",
    "df['Junction_Control'] = df['Junction_Control'].astype('category')\n",
    "df['Junction_Detail'] = df['Junction_Detail'].astype('category')\n"
   ]
  },
  {
   "cell_type": "code",
   "execution_count": 9,
   "id": "57f141f6",
   "metadata": {
    "scrolled": true
   },
   "outputs": [
    {
     "name": "stdout",
     "output_type": "stream",
     "text": [
      "category\n",
      "category\n",
      "category\n",
      "category\n",
      "category\n",
      "category\n",
      "category\n",
      "category\n",
      "category\n"
     ]
    }
   ],
   "source": [
    "# Check the new data type\n",
    "print(df['Accident_Severity'].dtype)\n",
    "print(df['Day_of_Week'].dtype)\n",
    "print(df['Road_Type'].dtype)\n",
    "print(df['Weather_Conditions'].dtype)\n",
    "print(df['Road_Surface_Conditions'].dtype)\n",
    "print(df['Light_Conditions'].dtype)\n",
    "print(df['Special_Conditions_at_Site'].dtype)\n",
    "print(df['Junction_Control'].dtype)\n",
    "print(df['Junction_Detail'].dtype)\n",
    "\n"
   ]
  },
  {
   "cell_type": "code",
   "execution_count": 10,
   "id": "85277203",
   "metadata": {},
   "outputs": [],
   "source": [
    "#typecasting object data type feature to datetime data type\n",
    "df['Date'] = pd.to_datetime(df['Date'])\n",
    "\n"
   ]
  },
  {
   "cell_type": "code",
   "execution_count": 11,
   "id": "0dccc6eb",
   "metadata": {},
   "outputs": [],
   "source": [
    "df['Time'] = pd.to_datetime(df['Time']).dt.time"
   ]
  },
  {
   "cell_type": "code",
   "execution_count": 12,
   "id": "8b9ce1a2",
   "metadata": {},
   "outputs": [
    {
     "name": "stdout",
     "output_type": "stream",
     "text": [
      "datetime64[ns]\n",
      "object\n"
     ]
    }
   ],
   "source": [
    "# Check the new data type\n",
    "print(df['Date'].dtype)\n",
    "print(df['Time'].dtype)"
   ]
  },
  {
   "cell_type": "code",
   "execution_count": 13,
   "id": "7ca203f3",
   "metadata": {},
   "outputs": [
    {
     "name": "stdout",
     "output_type": "stream",
     "text": [
      "Total number of columns are:  34\n",
      "Total number of rows are:  2047256\n",
      "Total number of cells in dataframe:  69606704\n"
     ]
    }
   ],
   "source": [
    "# Calculate total number of cells in dataframe\n",
    "df.columns\n",
    "df.index\n",
    "print(\"Total number of columns are: \", len(df.columns))\n",
    "print(\"Total number of rows are: \", len(df.index))\n",
    "print(\"Total number of cells in dataframe: \", len(df.columns) * len(df.index))\n"
   ]
  },
  {
   "cell_type": "code",
   "execution_count": 14,
   "id": "dc58cb8a",
   "metadata": {},
   "outputs": [
    {
     "data": {
      "text/plain": [
       "Index(['Accident_Index', '1st_Road_Class', '1st_Road_Number', '2nd_Road_Class',\n",
       "       '2nd_Road_Number', 'Accident_Severity', 'Carriageway_Hazards', 'Date',\n",
       "       'Day_of_Week', 'Did_Police_Officer_Attend_Scene_of_Accident',\n",
       "       'Junction_Control', 'Junction_Detail', 'Latitude', 'Light_Conditions',\n",
       "       'Local_Authority_(District)', 'Local_Authority_(Highway)',\n",
       "       'Location_Easting_OSGR', 'Location_Northing_OSGR', 'Longitude',\n",
       "       'LSOA_of_Accident_Location', 'Number_of_Casualties',\n",
       "       'Number_of_Vehicles', 'Pedestrian_Crossing-Human_Control',\n",
       "       'Pedestrian_Crossing-Physical_Facilities', 'Police_Force',\n",
       "       'Road_Surface_Conditions', 'Road_Type', 'Special_Conditions_at_Site',\n",
       "       'Speed_limit', 'Time', 'Urban_or_Rural_Area', 'Weather_Conditions',\n",
       "       'Year', 'InScotland'],\n",
       "      dtype='object')"
      ]
     },
     "execution_count": 14,
     "metadata": {},
     "output_type": "execute_result"
    }
   ],
   "source": [
    "df.columns"
   ]
  },
  {
   "cell_type": "code",
   "execution_count": 15,
   "id": "e701f389",
   "metadata": {},
   "outputs": [
    {
     "name": "stdout",
     "output_type": "stream",
     "text": [
      "['1st_Road_Number', '2nd_Road_Number', 'Accident_Severity', 'Date', 'Day_of_Week', 'Did_Police_Officer_Attend_Scene_of_Accident', 'Junction_Control', 'Junction_Detail', 'Latitude', 'Light_Conditions', 'Location_Easting_OSGR', 'Location_Northing_OSGR', 'Longitude', 'Number_of_Casualties', 'Number_of_Vehicles', 'Pedestrian_Crossing-Human_Control', 'Pedestrian_Crossing-Physical_Facilities', 'Road_Surface_Conditions', 'Road_Type', 'Special_Conditions_at_Site', 'Speed_limit', 'Weather_Conditions', 'Year']\n",
      "23\n"
     ]
    }
   ],
   "source": [
    "Array1 = [ABC for ABC in df.columns if df[ABC].dtypes !='O']\n",
    "print(Array1)\n",
    "print(len(Array1))"
   ]
  },
  {
   "cell_type": "code",
   "execution_count": 16,
   "id": "211fc545",
   "metadata": {},
   "outputs": [
    {
     "name": "stdout",
     "output_type": "stream",
     "text": [
      "Count of Numerical Features : 23\n"
     ]
    }
   ],
   "source": [
    "# Count of numerical features \n",
    "numerical_features = [f for f in df.columns if df[f].dtypes!='O']\n",
    "print('Count of Numerical Features :',len(numerical_features))\n"
   ]
  },
  {
   "cell_type": "code",
   "execution_count": 17,
   "id": "3754d8b2",
   "metadata": {},
   "outputs": [
    {
     "name": "stdout",
     "output_type": "stream",
     "text": [
      "Count of Categorical Features : 11\n"
     ]
    }
   ],
   "source": [
    "# Count of Categorical features \n",
    "cat_features = [c for c in df.columns if df[c].dtypes=='O']\n",
    "print('Count of Categorical Features :',len(cat_features))"
   ]
  },
  {
   "cell_type": "code",
   "execution_count": 18,
   "id": "3aeb9a69",
   "metadata": {},
   "outputs": [
    {
     "data": {
      "text/plain": [
       "0"
      ]
     },
     "execution_count": 18,
     "metadata": {},
     "output_type": "execute_result"
    }
   ],
   "source": [
    "#find duplicates and return 0 if there aren't any duplicates\n",
    "df.duplicated().sum() "
   ]
  },
  {
   "cell_type": "code",
   "execution_count": 19,
   "id": "6c860acc",
   "metadata": {},
   "outputs": [
    {
     "data": {
      "text/plain": [
       "Accident_Index                                      0\n",
       "1st_Road_Class                                      0\n",
       "1st_Road_Number                                     2\n",
       "2nd_Road_Class                                 844272\n",
       "2nd_Road_Number                                 17593\n",
       "Accident_Severity                                   0\n",
       "Carriageway_Hazards                                 0\n",
       "Date                                                0\n",
       "Day_of_Week                                         0\n",
       "Did_Police_Officer_Attend_Scene_of_Accident       278\n",
       "Junction_Control                                    0\n",
       "Junction_Detail                                     0\n",
       "Latitude                                          174\n",
       "Light_Conditions                                    0\n",
       "Local_Authority_(District)                          0\n",
       "Local_Authority_(Highway)                           0\n",
       "Location_Easting_OSGR                             164\n",
       "Location_Northing_OSGR                            164\n",
       "Longitude                                         175\n",
       "LSOA_of_Accident_Location                      144953\n",
       "Number_of_Casualties                                0\n",
       "Number_of_Vehicles                                  0\n",
       "Pedestrian_Crossing-Human_Control                2920\n",
       "Pedestrian_Crossing-Physical_Facilities          3560\n",
       "Police_Force                                        0\n",
       "Road_Surface_Conditions                             0\n",
       "Road_Type                                           0\n",
       "Special_Conditions_at_Site                          0\n",
       "Speed_limit                                        37\n",
       "Time                                              156\n",
       "Urban_or_Rural_Area                                 0\n",
       "Weather_Conditions                                  0\n",
       "Year                                                0\n",
       "InScotland                                         53\n",
       "dtype: int64"
      ]
     },
     "execution_count": 19,
     "metadata": {},
     "output_type": "execute_result"
    }
   ],
   "source": [
    "#Checking for null values\n",
    "df.isnull().sum() #returns the number of missing values in the dataset."
   ]
  },
  {
   "cell_type": "markdown",
   "id": "69f68983",
   "metadata": {},
   "source": [
    "## Value Counts"
   ]
  },
  {
   "cell_type": "code",
   "execution_count": 20,
   "id": "ec6f4daf",
   "metadata": {},
   "outputs": [
    {
     "data": {
      "text/plain": [
       "A               926729\n",
       "Unclassified    603938\n",
       "B               258076\n",
       "C               174953\n",
       "Motorway         78071\n",
       "A(M)              5489\n",
       "Name: 1st_Road_Class, dtype: int64"
      ]
     },
     "execution_count": 20,
     "metadata": {},
     "output_type": "execute_result"
    }
   ],
   "source": [
    "#Return a Series containing counts of unique values\n",
    "df['1st_Road_Class'].value_counts() "
   ]
  },
  {
   "cell_type": "code",
   "execution_count": 21,
   "id": "7e81c001",
   "metadata": {},
   "outputs": [
    {
     "data": {
      "text/plain": [
       "0.0       574752\n",
       "1.0        25545\n",
       "6.0        21745\n",
       "4.0        19226\n",
       "5.0        13489\n",
       "           ...  \n",
       "7476.0         1\n",
       "8806.0         1\n",
       "7975.0         1\n",
       "8863.0         1\n",
       "9117.0         1\n",
       "Name: 1st_Road_Number, Length: 7160, dtype: int64"
      ]
     },
     "execution_count": 21,
     "metadata": {},
     "output_type": "execute_result"
    }
   ],
   "source": [
    "df['1st_Road_Number'].value_counts() "
   ]
  },
  {
   "cell_type": "code",
   "execution_count": 22,
   "id": "c9ec44ec",
   "metadata": {},
   "outputs": [
    {
     "data": {
      "text/plain": [
       "Slight     1734548\n",
       "Serious     286339\n",
       "Fatal        26369\n",
       "Name: Accident_Severity, dtype: int64"
      ]
     },
     "execution_count": 22,
     "metadata": {},
     "output_type": "execute_result"
    }
   ],
   "source": [
    "df['Accident_Severity'].value_counts() "
   ]
  },
  {
   "cell_type": "code",
   "execution_count": 23,
   "id": "44b1ade2",
   "metadata": {},
   "outputs": [
    {
     "data": {
      "text/plain": [
       "None                                               2007807\n",
       "Other object on road                                 16111\n",
       "Any animal in carriageway (except ridden horse)      10416\n",
       "Pedestrian in carriageway - not injured               4684\n",
       "Previous accident                                     3105\n",
       "Data missing or out of range                          2746\n",
       "Vehicle load on road                                  2387\n",
       "Name: Carriageway_Hazards, dtype: int64"
      ]
     },
     "execution_count": 23,
     "metadata": {},
     "output_type": "execute_result"
    }
   ],
   "source": [
    "df['Carriageway_Hazards'].value_counts() "
   ]
  },
  {
   "cell_type": "code",
   "execution_count": 24,
   "id": "ab0ac0a7",
   "metadata": {},
   "outputs": [
    {
     "data": {
      "text/plain": [
       "2005-10-21    822\n",
       "2005-11-18    787\n",
       "2006-09-29    784\n",
       "2006-09-22    780\n",
       "2005-12-07    775\n",
       "             ... \n",
       "2016-12-25    138\n",
       "2017-12-25    137\n",
       "2010-01-10    130\n",
       "2014-12-25    128\n",
       "2008-12-25    118\n",
       "Name: Date, Length: 4748, dtype: int64"
      ]
     },
     "execution_count": 24,
     "metadata": {},
     "output_type": "execute_result"
    }
   ],
   "source": [
    "df['Date'].value_counts() "
   ]
  },
  {
   "cell_type": "code",
   "execution_count": 25,
   "id": "6427a440",
   "metadata": {},
   "outputs": [
    {
     "data": {
      "text/plain": [
       "Friday       335183\n",
       "Wednesday    308580\n",
       "Thursday     308240\n",
       "Tuesday      306292\n",
       "Monday       290482\n",
       "Saturday     273152\n",
       "Sunday       225327\n",
       "Name: Day_of_Week, dtype: int64"
      ]
     },
     "execution_count": 25,
     "metadata": {},
     "output_type": "execute_result"
    }
   ],
   "source": [
    "df['Day_of_Week'].value_counts() "
   ]
  },
  {
   "cell_type": "code",
   "execution_count": 26,
   "id": "153e1576",
   "metadata": {},
   "outputs": [
    {
     "data": {
      "text/plain": [
       "1.0    1638195\n",
       "2.0     403424\n",
       "3.0       5359\n",
       "Name: Did_Police_Officer_Attend_Scene_of_Accident, dtype: int64"
      ]
     },
     "execution_count": 26,
     "metadata": {},
     "output_type": "execute_result"
    }
   ],
   "source": [
    "df['Did_Police_Officer_Attend_Scene_of_Accident'].value_counts() "
   ]
  },
  {
   "cell_type": "code",
   "execution_count": 27,
   "id": "757392bc",
   "metadata": {},
   "outputs": [
    {
     "data": {
      "text/plain": [
       "Give way or uncontrolled               988313\n",
       "Data missing or out of range           754311\n",
       "Auto traffic signal                    211335\n",
       "Not at junction or within 20 metres     77304\n",
       "Stop sign                               12333\n",
       "Authorised person                        3660\n",
       "Name: Junction_Control, dtype: int64"
      ]
     },
     "execution_count": 27,
     "metadata": {},
     "output_type": "execute_result"
    }
   ],
   "source": [
    "df['Junction_Control'].value_counts() "
   ]
  },
  {
   "cell_type": "code",
   "execution_count": 28,
   "id": "1f2971ee",
   "metadata": {},
   "outputs": [
    {
     "data": {
      "text/plain": [
       "Not at junction or within 20 metres    827223\n",
       "T or staggered junction                635349\n",
       "Crossroads                             196283\n",
       "Roundabout                             177214\n",
       "Private drive or entrance               72751\n",
       "Other junction                          59692\n",
       "Slip road                               30052\n",
       "More than 4 arms (not roundabout)       25551\n",
       "Mini-roundabout                         22407\n",
       "Data missing or out of range              734\n",
       "Name: Junction_Detail, dtype: int64"
      ]
     },
     "execution_count": 28,
     "metadata": {},
     "output_type": "execute_result"
    }
   ],
   "source": [
    "df['Junction_Detail'].value_counts() "
   ]
  },
  {
   "cell_type": "code",
   "execution_count": 29,
   "id": "2dc1d732",
   "metadata": {},
   "outputs": [
    {
     "data": {
      "text/plain": [
       "52.458798    74\n",
       "52.949719    70\n",
       "51.519764    50\n",
       "51.506693    48\n",
       "52.989857    47\n",
       "             ..\n",
       "53.020386     1\n",
       "53.000623     1\n",
       "52.940516     1\n",
       "52.972950     1\n",
       "54.989905     1\n",
       "Name: Latitude, Length: 1319367, dtype: int64"
      ]
     },
     "execution_count": 29,
     "metadata": {},
     "output_type": "execute_result"
    }
   ],
   "source": [
    "df['Latitude'].value_counts() "
   ]
  },
  {
   "cell_type": "code",
   "execution_count": 30,
   "id": "699b0c91",
   "metadata": {},
   "outputs": [
    {
     "data": {
      "text/plain": [
       "Daylight                        1496121\n",
       "Darkness - lights lit            404144\n",
       "Darkness - no lighting           112644\n",
       "Darkness - lighting unknown       24362\n",
       "Darkness - lights unlit            9971\n",
       "Data missing or out of range         14\n",
       "Name: Light_Conditions, dtype: int64"
      ]
     },
     "execution_count": 30,
     "metadata": {},
     "output_type": "execute_result"
    }
   ],
   "source": [
    "df['Light_Conditions'].value_counts() "
   ]
  },
  {
   "cell_type": "code",
   "execution_count": 31,
   "id": "5eaca59e",
   "metadata": {},
   "outputs": [
    {
     "data": {
      "text/plain": [
       "-0.977611    71\n",
       "-1.871043    57\n",
       "-3.310596    48\n",
       "-1.234393    47\n",
       "-0.173445    47\n",
       "             ..\n",
       "-1.972082     1\n",
       "-2.057665     1\n",
       "-1.931755     1\n",
       "-1.991843     1\n",
       "-3.272073     1\n",
       "Name: Longitude, Length: 1417728, dtype: int64"
      ]
     },
     "execution_count": 31,
     "metadata": {},
     "output_type": "execute_result"
    }
   ],
   "source": [
    "df['Longitude'].value_counts() "
   ]
  },
  {
   "cell_type": "code",
   "execution_count": 32,
   "id": "80b3c09d",
   "metadata": {},
   "outputs": [
    {
     "data": {
      "text/plain": [
       "E01000004    2367\n",
       "E01004736    1838\n",
       "E01011365    1503\n",
       "E01032739    1106\n",
       "E01002444    1093\n",
       "             ... \n",
       "E01015524       1\n",
       "E01032154       1\n",
       "E01029033       1\n",
       "E01026996       1\n",
       "E01032701       1\n",
       "Name: LSOA_of_Accident_Location, Length: 35564, dtype: int64"
      ]
     },
     "execution_count": 32,
     "metadata": {},
     "output_type": "execute_result"
    }
   ],
   "source": [
    "df['LSOA_of_Accident_Location'].value_counts() "
   ]
  },
  {
   "cell_type": "code",
   "execution_count": 33,
   "id": "fdcdbab5",
   "metadata": {},
   "outputs": [
    {
     "data": {
      "text/plain": [
       "0.0    2031163\n",
       "2.0       8123\n",
       "1.0       5050\n",
       "Name: Pedestrian_Crossing-Human_Control, dtype: int64"
      ]
     },
     "execution_count": 33,
     "metadata": {},
     "output_type": "execute_result"
    }
   ],
   "source": [
    "df['Pedestrian_Crossing-Human_Control'].value_counts() "
   ]
  },
  {
   "cell_type": "code",
   "execution_count": 34,
   "id": "a716b230",
   "metadata": {},
   "outputs": [
    {
     "data": {
      "text/plain": [
       "0.0    1695605\n",
       "5.0     138133\n",
       "4.0     109447\n",
       "1.0      55785\n",
       "8.0      39135\n",
       "7.0       5591\n",
       "Name: Pedestrian_Crossing-Physical_Facilities, dtype: int64"
      ]
     },
     "execution_count": 34,
     "metadata": {},
     "output_type": "execute_result"
    }
   ],
   "source": [
    "df['Pedestrian_Crossing-Physical_Facilities'].value_counts() "
   ]
  },
  {
   "cell_type": "code",
   "execution_count": 35,
   "id": "b3f65112",
   "metadata": {},
   "outputs": [
    {
     "data": {
      "text/plain": [
       "Single carriageway              1527882\n",
       "Dual carriageway                 303407\n",
       "Roundabout                       136754\n",
       "One way street                    43258\n",
       "Slip road                         21558\n",
       "Unknown                           14396\n",
       "Data missing or out of range          1\n",
       "Name: Road_Type, dtype: int64"
      ]
     },
     "execution_count": 35,
     "metadata": {},
     "output_type": "execute_result"
    }
   ],
   "source": [
    "df['Road_Type'].value_counts() "
   ]
  },
  {
   "cell_type": "code",
   "execution_count": 36,
   "id": "515e245b",
   "metadata": {},
   "outputs": [
    {
     "data": {
      "text/plain": [
       "None                                          1995137\n",
       "Roadworks                                       23525\n",
       "Oil or diesel                                    6797\n",
       "Mud                                              6363\n",
       "Road surface defective                           4801\n",
       "Auto traffic signal - out                        3855\n",
       "Road sign or marking defective or obscured       2930\n",
       "Data missing or out of range                     2835\n",
       "Auto signal part defective                       1013\n",
       "Name: Special_Conditions_at_Site, dtype: int64"
      ]
     },
     "execution_count": 36,
     "metadata": {},
     "output_type": "execute_result"
    }
   ],
   "source": [
    "df['Special_Conditions_at_Site'].value_counts() "
   ]
  },
  {
   "cell_type": "code",
   "execution_count": 37,
   "id": "25718c85",
   "metadata": {},
   "outputs": [
    {
     "data": {
      "text/plain": [
       "30.0    1306174\n",
       "60.0     317469\n",
       "40.0     168357\n",
       "70.0     147305\n",
       "50.0      69479\n",
       "20.0      38399\n",
       "10.0         19\n",
       "15.0         16\n",
       "0.0           1\n",
       "Name: Speed_limit, dtype: int64"
      ]
     },
     "execution_count": 37,
     "metadata": {},
     "output_type": "execute_result"
    }
   ],
   "source": [
    "df['Speed_limit'].value_counts() "
   ]
  },
  {
   "cell_type": "code",
   "execution_count": 38,
   "id": "b3936d45",
   "metadata": {},
   "outputs": [
    {
     "data": {
      "text/plain": [
       "17:00:00    19960\n",
       "17:30:00    18986\n",
       "16:00:00    18168\n",
       "18:00:00    18165\n",
       "15:30:00    17774\n",
       "            ...  \n",
       "04:41:00       68\n",
       "04:31:00       65\n",
       "04:01:00       63\n",
       "04:34:00       61\n",
       "04:46:00       61\n",
       "Name: Time, Length: 1439, dtype: int64"
      ]
     },
     "execution_count": 38,
     "metadata": {},
     "output_type": "execute_result"
    }
   ],
   "source": [
    "df['Time'].value_counts() "
   ]
  },
  {
   "cell_type": "code",
   "execution_count": 39,
   "id": "f9ede0de",
   "metadata": {},
   "outputs": [
    {
     "data": {
      "text/plain": [
       "Urban          1322339\n",
       "Rural           724757\n",
       "Unallocated        160\n",
       "Name: Urban_or_Rural_Area, dtype: int64"
      ]
     },
     "execution_count": 39,
     "metadata": {},
     "output_type": "execute_result"
    }
   ],
   "source": [
    "df['Urban_or_Rural_Area'].value_counts() "
   ]
  },
  {
   "cell_type": "code",
   "execution_count": 40,
   "id": "03350143",
   "metadata": {},
   "outputs": [
    {
     "data": {
      "text/plain": [
       "Fine no high winds              1640095\n",
       "Raining no high winds            239281\n",
       "Other                             44083\n",
       "Unknown                           42521\n",
       "Raining + high winds              28343\n",
       "Fine + high winds                 25816\n",
       "Snowing no high winds             13387\n",
       "Fog or mist                       11068\n",
       "Snowing + high winds               2487\n",
       "Data missing or out of range        175\n",
       "Name: Weather_Conditions, dtype: int64"
      ]
     },
     "execution_count": 40,
     "metadata": {},
     "output_type": "execute_result"
    }
   ],
   "source": [
    "df['Weather_Conditions'].value_counts() "
   ]
  },
  {
   "cell_type": "code",
   "execution_count": 41,
   "id": "81734d9b",
   "metadata": {},
   "outputs": [
    {
     "data": {
      "text/plain": [
       "2005    198735\n",
       "2006    189161\n",
       "2007    182115\n",
       "2008    170591\n",
       "2009    163554\n",
       "2010    154414\n",
       "2011    151474\n",
       "2014    146322\n",
       "2012    145571\n",
       "2015    140056\n",
       "2013    138660\n",
       "2016    136621\n",
       "2017    129982\n",
       "Name: Year, dtype: int64"
      ]
     },
     "execution_count": 41,
     "metadata": {},
     "output_type": "execute_result"
    }
   ],
   "source": [
    "df['Year'].value_counts() "
   ]
  },
  {
   "cell_type": "code",
   "execution_count": 42,
   "id": "40a0b518",
   "metadata": {},
   "outputs": [
    {
     "data": {
      "text/plain": [
       "No     1913224\n",
       "Yes     133979\n",
       "Name: InScotland, dtype: int64"
      ]
     },
     "execution_count": 42,
     "metadata": {},
     "output_type": "execute_result"
    }
   ],
   "source": [
    "df['InScotland'].value_counts() "
   ]
  },
  {
   "cell_type": "markdown",
   "id": "e8a95ec2",
   "metadata": {},
   "source": [
    "## Correlation of the features "
   ]
  },
  {
   "cell_type": "code",
   "execution_count": 43,
   "id": "dbaa6d79",
   "metadata": {},
   "outputs": [
    {
     "data": {
      "text/html": [
       "<div>\n",
       "<style scoped>\n",
       "    .dataframe tbody tr th:only-of-type {\n",
       "        vertical-align: middle;\n",
       "    }\n",
       "\n",
       "    .dataframe tbody tr th {\n",
       "        vertical-align: top;\n",
       "    }\n",
       "\n",
       "    .dataframe thead th {\n",
       "        text-align: right;\n",
       "    }\n",
       "</style>\n",
       "<table border=\"1\" class=\"dataframe\">\n",
       "  <thead>\n",
       "    <tr style=\"text-align: right;\">\n",
       "      <th></th>\n",
       "      <th>1st_Road_Number</th>\n",
       "      <th>2nd_Road_Number</th>\n",
       "      <th>Did_Police_Officer_Attend_Scene_of_Accident</th>\n",
       "      <th>Latitude</th>\n",
       "      <th>Location_Easting_OSGR</th>\n",
       "      <th>Location_Northing_OSGR</th>\n",
       "      <th>Longitude</th>\n",
       "      <th>Number_of_Casualties</th>\n",
       "      <th>Number_of_Vehicles</th>\n",
       "      <th>Pedestrian_Crossing-Human_Control</th>\n",
       "      <th>Pedestrian_Crossing-Physical_Facilities</th>\n",
       "      <th>Speed_limit</th>\n",
       "      <th>Year</th>\n",
       "    </tr>\n",
       "  </thead>\n",
       "  <tbody>\n",
       "    <tr>\n",
       "      <th>1st_Road_Number</th>\n",
       "      <td>1.000000</td>\n",
       "      <td>0.188181</td>\n",
       "      <td>-0.002030</td>\n",
       "      <td>0.044275</td>\n",
       "      <td>-0.087874</td>\n",
       "      <td>0.043338</td>\n",
       "      <td>-0.085619</td>\n",
       "      <td>0.007195</td>\n",
       "      <td>-0.009677</td>\n",
       "      <td>0.001122</td>\n",
       "      <td>0.040003</td>\n",
       "      <td>-0.060005</td>\n",
       "      <td>-0.014566</td>\n",
       "    </tr>\n",
       "    <tr>\n",
       "      <th>2nd_Road_Number</th>\n",
       "      <td>0.188181</td>\n",
       "      <td>1.000000</td>\n",
       "      <td>0.020211</td>\n",
       "      <td>0.016055</td>\n",
       "      <td>-0.003253</td>\n",
       "      <td>0.015405</td>\n",
       "      <td>-0.001763</td>\n",
       "      <td>0.001098</td>\n",
       "      <td>0.023476</td>\n",
       "      <td>0.002302</td>\n",
       "      <td>0.095830</td>\n",
       "      <td>-0.048995</td>\n",
       "      <td>-0.013395</td>\n",
       "    </tr>\n",
       "    <tr>\n",
       "      <th>Did_Police_Officer_Attend_Scene_of_Accident</th>\n",
       "      <td>-0.002030</td>\n",
       "      <td>0.020211</td>\n",
       "      <td>1.000000</td>\n",
       "      <td>-0.012119</td>\n",
       "      <td>0.020901</td>\n",
       "      <td>-0.012225</td>\n",
       "      <td>0.021500</td>\n",
       "      <td>-0.105112</td>\n",
       "      <td>-0.033195</td>\n",
       "      <td>0.008042</td>\n",
       "      <td>0.007819</td>\n",
       "      <td>-0.153309</td>\n",
       "      <td>0.025135</td>\n",
       "    </tr>\n",
       "    <tr>\n",
       "      <th>Latitude</th>\n",
       "      <td>0.044275</td>\n",
       "      <td>0.016055</td>\n",
       "      <td>-0.012119</td>\n",
       "      <td>1.000000</td>\n",
       "      <td>-0.423183</td>\n",
       "      <td>0.999973</td>\n",
       "      <td>-0.433732</td>\n",
       "      <td>0.030003</td>\n",
       "      <td>-0.038644</td>\n",
       "      <td>0.035811</td>\n",
       "      <td>-0.010041</td>\n",
       "      <td>0.051719</td>\n",
       "      <td>-0.035851</td>\n",
       "    </tr>\n",
       "    <tr>\n",
       "      <th>Location_Easting_OSGR</th>\n",
       "      <td>-0.087874</td>\n",
       "      <td>-0.003253</td>\n",
       "      <td>0.020901</td>\n",
       "      <td>-0.423183</td>\n",
       "      <td>1.000000</td>\n",
       "      <td>-0.421217</td>\n",
       "      <td>0.999360</td>\n",
       "      <td>-0.039075</td>\n",
       "      <td>0.017385</td>\n",
       "      <td>-0.019955</td>\n",
       "      <td>0.058344</td>\n",
       "      <td>-0.066668</td>\n",
       "      <td>0.053425</td>\n",
       "    </tr>\n",
       "    <tr>\n",
       "      <th>Location_Northing_OSGR</th>\n",
       "      <td>0.043338</td>\n",
       "      <td>0.015405</td>\n",
       "      <td>-0.012225</td>\n",
       "      <td>0.999973</td>\n",
       "      <td>-0.421217</td>\n",
       "      <td>1.000000</td>\n",
       "      <td>-0.431868</td>\n",
       "      <td>0.029858</td>\n",
       "      <td>-0.038852</td>\n",
       "      <td>0.035874</td>\n",
       "      <td>-0.010155</td>\n",
       "      <td>0.052009</td>\n",
       "      <td>-0.035670</td>\n",
       "    </tr>\n",
       "    <tr>\n",
       "      <th>Longitude</th>\n",
       "      <td>-0.085619</td>\n",
       "      <td>-0.001763</td>\n",
       "      <td>0.021500</td>\n",
       "      <td>-0.433732</td>\n",
       "      <td>0.999360</td>\n",
       "      <td>-0.431868</td>\n",
       "      <td>1.000000</td>\n",
       "      <td>-0.037836</td>\n",
       "      <td>0.018572</td>\n",
       "      <td>-0.021130</td>\n",
       "      <td>0.056999</td>\n",
       "      <td>-0.065845</td>\n",
       "      <td>0.052924</td>\n",
       "    </tr>\n",
       "    <tr>\n",
       "      <th>Number_of_Casualties</th>\n",
       "      <td>0.007195</td>\n",
       "      <td>0.001098</td>\n",
       "      <td>-0.105112</td>\n",
       "      <td>0.030003</td>\n",
       "      <td>-0.039075</td>\n",
       "      <td>0.029858</td>\n",
       "      <td>-0.037836</td>\n",
       "      <td>1.000000</td>\n",
       "      <td>0.237044</td>\n",
       "      <td>-0.008164</td>\n",
       "      <td>-0.029159</td>\n",
       "      <td>0.142589</td>\n",
       "      <td>-0.018827</td>\n",
       "    </tr>\n",
       "    <tr>\n",
       "      <th>Number_of_Vehicles</th>\n",
       "      <td>-0.009677</td>\n",
       "      <td>0.023476</td>\n",
       "      <td>-0.033195</td>\n",
       "      <td>-0.038644</td>\n",
       "      <td>0.017385</td>\n",
       "      <td>-0.038852</td>\n",
       "      <td>0.018572</td>\n",
       "      <td>0.237044</td>\n",
       "      <td>1.000000</td>\n",
       "      <td>-0.018408</td>\n",
       "      <td>-0.050460</td>\n",
       "      <td>0.088268</td>\n",
       "      <td>0.000190</td>\n",
       "    </tr>\n",
       "    <tr>\n",
       "      <th>Pedestrian_Crossing-Human_Control</th>\n",
       "      <td>0.001122</td>\n",
       "      <td>0.002302</td>\n",
       "      <td>0.008042</td>\n",
       "      <td>0.035811</td>\n",
       "      <td>-0.019955</td>\n",
       "      <td>0.035874</td>\n",
       "      <td>-0.021130</td>\n",
       "      <td>-0.008164</td>\n",
       "      <td>-0.018408</td>\n",
       "      <td>1.000000</td>\n",
       "      <td>0.100186</td>\n",
       "      <td>-0.041119</td>\n",
       "      <td>0.010750</td>\n",
       "    </tr>\n",
       "    <tr>\n",
       "      <th>Pedestrian_Crossing-Physical_Facilities</th>\n",
       "      <td>0.040003</td>\n",
       "      <td>0.095830</td>\n",
       "      <td>0.007819</td>\n",
       "      <td>-0.010041</td>\n",
       "      <td>0.058344</td>\n",
       "      <td>-0.010155</td>\n",
       "      <td>0.056999</td>\n",
       "      <td>-0.029159</td>\n",
       "      <td>-0.050460</td>\n",
       "      <td>0.100186</td>\n",
       "      <td>1.000000</td>\n",
       "      <td>-0.205995</td>\n",
       "      <td>0.043594</td>\n",
       "    </tr>\n",
       "    <tr>\n",
       "      <th>Speed_limit</th>\n",
       "      <td>-0.060005</td>\n",
       "      <td>-0.048995</td>\n",
       "      <td>-0.153309</td>\n",
       "      <td>0.051719</td>\n",
       "      <td>-0.066668</td>\n",
       "      <td>0.052009</td>\n",
       "      <td>-0.065845</td>\n",
       "      <td>0.142589</td>\n",
       "      <td>0.088268</td>\n",
       "      <td>-0.041119</td>\n",
       "      <td>-0.205995</td>\n",
       "      <td>1.000000</td>\n",
       "      <td>-0.051645</td>\n",
       "    </tr>\n",
       "    <tr>\n",
       "      <th>Year</th>\n",
       "      <td>-0.014566</td>\n",
       "      <td>-0.013395</td>\n",
       "      <td>0.025135</td>\n",
       "      <td>-0.035851</td>\n",
       "      <td>0.053425</td>\n",
       "      <td>-0.035670</td>\n",
       "      <td>0.052924</td>\n",
       "      <td>-0.018827</td>\n",
       "      <td>0.000190</td>\n",
       "      <td>0.010750</td>\n",
       "      <td>0.043594</td>\n",
       "      <td>-0.051645</td>\n",
       "      <td>1.000000</td>\n",
       "    </tr>\n",
       "  </tbody>\n",
       "</table>\n",
       "</div>"
      ],
      "text/plain": [
       "                                             1st_Road_Number  2nd_Road_Number  \\\n",
       "1st_Road_Number                                     1.000000         0.188181   \n",
       "2nd_Road_Number                                     0.188181         1.000000   \n",
       "Did_Police_Officer_Attend_Scene_of_Accident        -0.002030         0.020211   \n",
       "Latitude                                            0.044275         0.016055   \n",
       "Location_Easting_OSGR                              -0.087874        -0.003253   \n",
       "Location_Northing_OSGR                              0.043338         0.015405   \n",
       "Longitude                                          -0.085619        -0.001763   \n",
       "Number_of_Casualties                                0.007195         0.001098   \n",
       "Number_of_Vehicles                                 -0.009677         0.023476   \n",
       "Pedestrian_Crossing-Human_Control                   0.001122         0.002302   \n",
       "Pedestrian_Crossing-Physical_Facilities             0.040003         0.095830   \n",
       "Speed_limit                                        -0.060005        -0.048995   \n",
       "Year                                               -0.014566        -0.013395   \n",
       "\n",
       "                                             Did_Police_Officer_Attend_Scene_of_Accident  \\\n",
       "1st_Road_Number                                                                -0.002030   \n",
       "2nd_Road_Number                                                                 0.020211   \n",
       "Did_Police_Officer_Attend_Scene_of_Accident                                     1.000000   \n",
       "Latitude                                                                       -0.012119   \n",
       "Location_Easting_OSGR                                                           0.020901   \n",
       "Location_Northing_OSGR                                                         -0.012225   \n",
       "Longitude                                                                       0.021500   \n",
       "Number_of_Casualties                                                           -0.105112   \n",
       "Number_of_Vehicles                                                             -0.033195   \n",
       "Pedestrian_Crossing-Human_Control                                               0.008042   \n",
       "Pedestrian_Crossing-Physical_Facilities                                         0.007819   \n",
       "Speed_limit                                                                    -0.153309   \n",
       "Year                                                                            0.025135   \n",
       "\n",
       "                                             Latitude  Location_Easting_OSGR  \\\n",
       "1st_Road_Number                              0.044275              -0.087874   \n",
       "2nd_Road_Number                              0.016055              -0.003253   \n",
       "Did_Police_Officer_Attend_Scene_of_Accident -0.012119               0.020901   \n",
       "Latitude                                     1.000000              -0.423183   \n",
       "Location_Easting_OSGR                       -0.423183               1.000000   \n",
       "Location_Northing_OSGR                       0.999973              -0.421217   \n",
       "Longitude                                   -0.433732               0.999360   \n",
       "Number_of_Casualties                         0.030003              -0.039075   \n",
       "Number_of_Vehicles                          -0.038644               0.017385   \n",
       "Pedestrian_Crossing-Human_Control            0.035811              -0.019955   \n",
       "Pedestrian_Crossing-Physical_Facilities     -0.010041               0.058344   \n",
       "Speed_limit                                  0.051719              -0.066668   \n",
       "Year                                        -0.035851               0.053425   \n",
       "\n",
       "                                             Location_Northing_OSGR  \\\n",
       "1st_Road_Number                                            0.043338   \n",
       "2nd_Road_Number                                            0.015405   \n",
       "Did_Police_Officer_Attend_Scene_of_Accident               -0.012225   \n",
       "Latitude                                                   0.999973   \n",
       "Location_Easting_OSGR                                     -0.421217   \n",
       "Location_Northing_OSGR                                     1.000000   \n",
       "Longitude                                                 -0.431868   \n",
       "Number_of_Casualties                                       0.029858   \n",
       "Number_of_Vehicles                                        -0.038852   \n",
       "Pedestrian_Crossing-Human_Control                          0.035874   \n",
       "Pedestrian_Crossing-Physical_Facilities                   -0.010155   \n",
       "Speed_limit                                                0.052009   \n",
       "Year                                                      -0.035670   \n",
       "\n",
       "                                             Longitude  Number_of_Casualties  \\\n",
       "1st_Road_Number                              -0.085619              0.007195   \n",
       "2nd_Road_Number                              -0.001763              0.001098   \n",
       "Did_Police_Officer_Attend_Scene_of_Accident   0.021500             -0.105112   \n",
       "Latitude                                     -0.433732              0.030003   \n",
       "Location_Easting_OSGR                         0.999360             -0.039075   \n",
       "Location_Northing_OSGR                       -0.431868              0.029858   \n",
       "Longitude                                     1.000000             -0.037836   \n",
       "Number_of_Casualties                         -0.037836              1.000000   \n",
       "Number_of_Vehicles                            0.018572              0.237044   \n",
       "Pedestrian_Crossing-Human_Control            -0.021130             -0.008164   \n",
       "Pedestrian_Crossing-Physical_Facilities       0.056999             -0.029159   \n",
       "Speed_limit                                  -0.065845              0.142589   \n",
       "Year                                          0.052924             -0.018827   \n",
       "\n",
       "                                             Number_of_Vehicles  \\\n",
       "1st_Road_Number                                       -0.009677   \n",
       "2nd_Road_Number                                        0.023476   \n",
       "Did_Police_Officer_Attend_Scene_of_Accident           -0.033195   \n",
       "Latitude                                              -0.038644   \n",
       "Location_Easting_OSGR                                  0.017385   \n",
       "Location_Northing_OSGR                                -0.038852   \n",
       "Longitude                                              0.018572   \n",
       "Number_of_Casualties                                   0.237044   \n",
       "Number_of_Vehicles                                     1.000000   \n",
       "Pedestrian_Crossing-Human_Control                     -0.018408   \n",
       "Pedestrian_Crossing-Physical_Facilities               -0.050460   \n",
       "Speed_limit                                            0.088268   \n",
       "Year                                                   0.000190   \n",
       "\n",
       "                                             Pedestrian_Crossing-Human_Control  \\\n",
       "1st_Road_Number                                                       0.001122   \n",
       "2nd_Road_Number                                                       0.002302   \n",
       "Did_Police_Officer_Attend_Scene_of_Accident                           0.008042   \n",
       "Latitude                                                              0.035811   \n",
       "Location_Easting_OSGR                                                -0.019955   \n",
       "Location_Northing_OSGR                                                0.035874   \n",
       "Longitude                                                            -0.021130   \n",
       "Number_of_Casualties                                                 -0.008164   \n",
       "Number_of_Vehicles                                                   -0.018408   \n",
       "Pedestrian_Crossing-Human_Control                                     1.000000   \n",
       "Pedestrian_Crossing-Physical_Facilities                               0.100186   \n",
       "Speed_limit                                                          -0.041119   \n",
       "Year                                                                  0.010750   \n",
       "\n",
       "                                             Pedestrian_Crossing-Physical_Facilities  \\\n",
       "1st_Road_Number                                                             0.040003   \n",
       "2nd_Road_Number                                                             0.095830   \n",
       "Did_Police_Officer_Attend_Scene_of_Accident                                 0.007819   \n",
       "Latitude                                                                   -0.010041   \n",
       "Location_Easting_OSGR                                                       0.058344   \n",
       "Location_Northing_OSGR                                                     -0.010155   \n",
       "Longitude                                                                   0.056999   \n",
       "Number_of_Casualties                                                       -0.029159   \n",
       "Number_of_Vehicles                                                         -0.050460   \n",
       "Pedestrian_Crossing-Human_Control                                           0.100186   \n",
       "Pedestrian_Crossing-Physical_Facilities                                     1.000000   \n",
       "Speed_limit                                                                -0.205995   \n",
       "Year                                                                        0.043594   \n",
       "\n",
       "                                             Speed_limit      Year  \n",
       "1st_Road_Number                                -0.060005 -0.014566  \n",
       "2nd_Road_Number                                -0.048995 -0.013395  \n",
       "Did_Police_Officer_Attend_Scene_of_Accident    -0.153309  0.025135  \n",
       "Latitude                                        0.051719 -0.035851  \n",
       "Location_Easting_OSGR                          -0.066668  0.053425  \n",
       "Location_Northing_OSGR                          0.052009 -0.035670  \n",
       "Longitude                                      -0.065845  0.052924  \n",
       "Number_of_Casualties                            0.142589 -0.018827  \n",
       "Number_of_Vehicles                              0.088268  0.000190  \n",
       "Pedestrian_Crossing-Human_Control              -0.041119  0.010750  \n",
       "Pedestrian_Crossing-Physical_Facilities        -0.205995  0.043594  \n",
       "Speed_limit                                     1.000000 -0.051645  \n",
       "Year                                           -0.051645  1.000000  "
      ]
     },
     "execution_count": 43,
     "metadata": {},
     "output_type": "execute_result"
    }
   ],
   "source": [
    "df.corr()"
   ]
  },
  {
   "cell_type": "markdown",
   "id": "070572bc",
   "metadata": {},
   "source": [
    "## Data Cleaning and Feature Engineering\n"
   ]
  },
  {
   "cell_type": "code",
   "execution_count": 44,
   "id": "8b09d97f",
   "metadata": {},
   "outputs": [
    {
     "data": {
      "text/plain": [
       "Accident_Index                                      0\n",
       "1st_Road_Class                                      0\n",
       "1st_Road_Number                                     2\n",
       "2nd_Road_Class                                 844272\n",
       "2nd_Road_Number                                 17593\n",
       "Accident_Severity                                   0\n",
       "Carriageway_Hazards                                 0\n",
       "Date                                                0\n",
       "Day_of_Week                                         0\n",
       "Did_Police_Officer_Attend_Scene_of_Accident       278\n",
       "Junction_Control                                    0\n",
       "Junction_Detail                                     0\n",
       "Latitude                                          174\n",
       "Light_Conditions                                    0\n",
       "Local_Authority_(District)                          0\n",
       "Local_Authority_(Highway)                           0\n",
       "Location_Easting_OSGR                             164\n",
       "Location_Northing_OSGR                            164\n",
       "Longitude                                         175\n",
       "LSOA_of_Accident_Location                      144953\n",
       "Number_of_Casualties                                0\n",
       "Number_of_Vehicles                                  0\n",
       "Pedestrian_Crossing-Human_Control                2920\n",
       "Pedestrian_Crossing-Physical_Facilities          3560\n",
       "Police_Force                                        0\n",
       "Road_Surface_Conditions                             0\n",
       "Road_Type                                           0\n",
       "Special_Conditions_at_Site                          0\n",
       "Speed_limit                                        37\n",
       "Time                                              156\n",
       "Urban_or_Rural_Area                                 0\n",
       "Weather_Conditions                                  0\n",
       "Year                                                0\n",
       "InScotland                                         53\n",
       "dtype: int64"
      ]
     },
     "execution_count": 44,
     "metadata": {},
     "output_type": "execute_result"
    }
   ],
   "source": [
    "df.isnull().sum()"
   ]
  },
  {
   "cell_type": "code",
   "execution_count": 45,
   "id": "d8e95748",
   "metadata": {},
   "outputs": [],
   "source": [
    "#calulate mean latitude for missing value of latitude(use local authority as it provides good approximation of the area where the accidents occured)\n",
    "df1 = df.groupby('Local_Authority_(District)')['Latitude'].mean()\n",
    "df['Latitude'] = df.apply(lambda x: df1[x['Local_Authority_(District)']] if pd.isna(x['Latitude']) else x['Latitude'], axis=1)\n",
    "\n",
    "#refrence from-https://stackoverflow.com/questions/18689823/pandas-dataframe-replace-nan-values-with-average-of-columns"
   ]
  },
  {
   "cell_type": "code",
   "execution_count": 46,
   "id": "4c777b7c",
   "metadata": {},
   "outputs": [],
   "source": [
    "#calulate mean longitude for missing value of longitude(use local authority as it provides good approximation of the area where the accidents occured)\n",
    "df1 = df.groupby('Local_Authority_(District)')['Longitude'].mean()\n",
    "df['Longitude'] = df.apply(lambda x: df1[x['Local_Authority_(District)']] if pd.isna(x['Longitude']) else x['Longitude'], axis=1)"
   ]
  },
  {
   "cell_type": "code",
   "execution_count": 47,
   "id": "384a2dda",
   "metadata": {},
   "outputs": [],
   "source": [
    "#dropping unecessary columns\n",
    "dropped_col=['Accident_Index','Location_Easting_OSGR','Location_Northing_OSGR','Police_Force','Local_Authority_(District)','Local_Authority_(Highway)']\n",
    "df.drop(dropped_col,axis=1,inplace=True)"
   ]
  },
  {
   "cell_type": "code",
   "execution_count": 48,
   "id": "701828e4",
   "metadata": {},
   "outputs": [],
   "source": [
    "df = df.drop('2nd_Road_Class', axis=1)"
   ]
  },
  {
   "cell_type": "code",
   "execution_count": 49,
   "id": "5f4d48bf",
   "metadata": {},
   "outputs": [
    {
     "data": {
      "text/html": [
       "<div>\n",
       "<style scoped>\n",
       "    .dataframe tbody tr th:only-of-type {\n",
       "        vertical-align: middle;\n",
       "    }\n",
       "\n",
       "    .dataframe tbody tr th {\n",
       "        vertical-align: top;\n",
       "    }\n",
       "\n",
       "    .dataframe thead th {\n",
       "        text-align: right;\n",
       "    }\n",
       "</style>\n",
       "<table border=\"1\" class=\"dataframe\">\n",
       "  <thead>\n",
       "    <tr style=\"text-align: right;\">\n",
       "      <th></th>\n",
       "      <th>1st_Road_Class</th>\n",
       "      <th>1st_Road_Number</th>\n",
       "      <th>2nd_Road_Number</th>\n",
       "      <th>Accident_Severity</th>\n",
       "      <th>Carriageway_Hazards</th>\n",
       "      <th>Date</th>\n",
       "      <th>Day_of_Week</th>\n",
       "      <th>Did_Police_Officer_Attend_Scene_of_Accident</th>\n",
       "      <th>Junction_Control</th>\n",
       "      <th>Junction_Detail</th>\n",
       "      <th>...</th>\n",
       "      <th>Pedestrian_Crossing-Physical_Facilities</th>\n",
       "      <th>Road_Surface_Conditions</th>\n",
       "      <th>Road_Type</th>\n",
       "      <th>Special_Conditions_at_Site</th>\n",
       "      <th>Speed_limit</th>\n",
       "      <th>Time</th>\n",
       "      <th>Urban_or_Rural_Area</th>\n",
       "      <th>Weather_Conditions</th>\n",
       "      <th>Year</th>\n",
       "      <th>InScotland</th>\n",
       "    </tr>\n",
       "  </thead>\n",
       "  <tbody>\n",
       "    <tr>\n",
       "      <th>185702</th>\n",
       "      <td>A</td>\n",
       "      <td>NaN</td>\n",
       "      <td>0.0</td>\n",
       "      <td>Slight</td>\n",
       "      <td>None</td>\n",
       "      <td>2005-03-06</td>\n",
       "      <td>Sunday</td>\n",
       "      <td>2.0</td>\n",
       "      <td>Data missing or out of range</td>\n",
       "      <td>Not at junction or within 20 metres</td>\n",
       "      <td>...</td>\n",
       "      <td>0.0</td>\n",
       "      <td>Frost or ice</td>\n",
       "      <td>Dual carriageway</td>\n",
       "      <td>None</td>\n",
       "      <td>60.0</td>\n",
       "      <td>04:56:00</td>\n",
       "      <td>Rural</td>\n",
       "      <td>Fine + high winds</td>\n",
       "      <td>2005</td>\n",
       "      <td>Yes</td>\n",
       "    </tr>\n",
       "    <tr>\n",
       "      <th>186128</th>\n",
       "      <td>B</td>\n",
       "      <td>NaN</td>\n",
       "      <td>0.0</td>\n",
       "      <td>Slight</td>\n",
       "      <td>None</td>\n",
       "      <td>2005-12-09</td>\n",
       "      <td>Friday</td>\n",
       "      <td>1.0</td>\n",
       "      <td>Data missing or out of range</td>\n",
       "      <td>Not at junction or within 20 metres</td>\n",
       "      <td>...</td>\n",
       "      <td>0.0</td>\n",
       "      <td>Dry</td>\n",
       "      <td>Single carriageway</td>\n",
       "      <td>None</td>\n",
       "      <td>60.0</td>\n",
       "      <td>03:00:00</td>\n",
       "      <td>Rural</td>\n",
       "      <td>Fine no high winds</td>\n",
       "      <td>2005</td>\n",
       "      <td>Yes</td>\n",
       "    </tr>\n",
       "  </tbody>\n",
       "</table>\n",
       "<p>2 rows × 27 columns</p>\n",
       "</div>"
      ],
      "text/plain": [
       "       1st_Road_Class  1st_Road_Number  2nd_Road_Number Accident_Severity  \\\n",
       "185702              A              NaN              0.0            Slight   \n",
       "186128              B              NaN              0.0            Slight   \n",
       "\n",
       "       Carriageway_Hazards       Date Day_of_Week  \\\n",
       "185702                None 2005-03-06      Sunday   \n",
       "186128                None 2005-12-09      Friday   \n",
       "\n",
       "        Did_Police_Officer_Attend_Scene_of_Accident  \\\n",
       "185702                                          2.0   \n",
       "186128                                          1.0   \n",
       "\n",
       "                    Junction_Control                      Junction_Detail  \\\n",
       "185702  Data missing or out of range  Not at junction or within 20 metres   \n",
       "186128  Data missing or out of range  Not at junction or within 20 metres   \n",
       "\n",
       "        ...  Pedestrian_Crossing-Physical_Facilities Road_Surface_Conditions  \\\n",
       "185702  ...                                      0.0            Frost or ice   \n",
       "186128  ...                                      0.0                     Dry   \n",
       "\n",
       "                 Road_Type Special_Conditions_at_Site  Speed_limit      Time  \\\n",
       "185702    Dual carriageway                       None         60.0  04:56:00   \n",
       "186128  Single carriageway                       None         60.0  03:00:00   \n",
       "\n",
       "        Urban_or_Rural_Area  Weather_Conditions  Year InScotland  \n",
       "185702                Rural   Fine + high winds  2005        Yes  \n",
       "186128                Rural  Fine no high winds  2005        Yes  \n",
       "\n",
       "[2 rows x 27 columns]"
      ]
     },
     "execution_count": 49,
     "metadata": {},
     "output_type": "execute_result"
    }
   ],
   "source": [
    "df[df['1st_Road_Number'].isnull()]"
   ]
  },
  {
   "cell_type": "code",
   "execution_count": 50,
   "id": "39c7435b",
   "metadata": {},
   "outputs": [],
   "source": [
    "#removing row with null values\n",
    "df = df.dropna(subset=['1st_Road_Number'])"
   ]
  },
  {
   "cell_type": "code",
   "execution_count": 51,
   "id": "3a98a701",
   "metadata": {},
   "outputs": [],
   "source": [
    "df = df.drop('2nd_Road_Number', axis=1)"
   ]
  },
  {
   "cell_type": "code",
   "execution_count": 52,
   "id": "59122e1e",
   "metadata": {},
   "outputs": [],
   "source": [
    "# Count missing values by category"
   ]
  },
  {
   "cell_type": "code",
   "execution_count": 53,
   "id": "5985c544",
   "metadata": {},
   "outputs": [
    {
     "data": {
      "text/html": [
       "<div>\n",
       "<style scoped>\n",
       "    .dataframe tbody tr th:only-of-type {\n",
       "        vertical-align: middle;\n",
       "    }\n",
       "\n",
       "    .dataframe tbody tr th {\n",
       "        vertical-align: top;\n",
       "    }\n",
       "\n",
       "    .dataframe thead th {\n",
       "        text-align: right;\n",
       "    }\n",
       "</style>\n",
       "<table border=\"1\" class=\"dataframe\">\n",
       "  <thead>\n",
       "    <tr style=\"text-align: right;\">\n",
       "      <th></th>\n",
       "      <th>1st_Road_Class</th>\n",
       "      <th>1st_Road_Number</th>\n",
       "      <th>Accident_Severity</th>\n",
       "      <th>Carriageway_Hazards</th>\n",
       "      <th>Date</th>\n",
       "      <th>Day_of_Week</th>\n",
       "      <th>Did_Police_Officer_Attend_Scene_of_Accident</th>\n",
       "      <th>Junction_Control</th>\n",
       "      <th>Junction_Detail</th>\n",
       "      <th>Latitude</th>\n",
       "      <th>...</th>\n",
       "      <th>Pedestrian_Crossing-Physical_Facilities</th>\n",
       "      <th>Road_Surface_Conditions</th>\n",
       "      <th>Road_Type</th>\n",
       "      <th>Special_Conditions_at_Site</th>\n",
       "      <th>Speed_limit</th>\n",
       "      <th>Time</th>\n",
       "      <th>Urban_or_Rural_Area</th>\n",
       "      <th>Weather_Conditions</th>\n",
       "      <th>Year</th>\n",
       "      <th>InScotland</th>\n",
       "    </tr>\n",
       "  </thead>\n",
       "  <tbody>\n",
       "    <tr>\n",
       "      <th>29084</th>\n",
       "      <td>Unclassified</td>\n",
       "      <td>0.0</td>\n",
       "      <td>Slight</td>\n",
       "      <td>Data missing or out of range</td>\n",
       "      <td>2005-11-30</td>\n",
       "      <td>Wednesday</td>\n",
       "      <td>NaN</td>\n",
       "      <td>Data missing or out of range</td>\n",
       "      <td>Data missing or out of range</td>\n",
       "      <td>53.783349</td>\n",
       "      <td>...</td>\n",
       "      <td>NaN</td>\n",
       "      <td>Data missing or out of range</td>\n",
       "      <td>Single carriageway</td>\n",
       "      <td>Data missing or out of range</td>\n",
       "      <td>30.0</td>\n",
       "      <td>NaT</td>\n",
       "      <td>Urban</td>\n",
       "      <td>Unknown</td>\n",
       "      <td>2005</td>\n",
       "      <td>No</td>\n",
       "    </tr>\n",
       "    <tr>\n",
       "      <th>29735</th>\n",
       "      <td>A</td>\n",
       "      <td>6.0</td>\n",
       "      <td>Slight</td>\n",
       "      <td>Data missing or out of range</td>\n",
       "      <td>2005-05-18</td>\n",
       "      <td>Wednesday</td>\n",
       "      <td>NaN</td>\n",
       "      <td>Data missing or out of range</td>\n",
       "      <td>Data missing or out of range</td>\n",
       "      <td>54.048796</td>\n",
       "      <td>...</td>\n",
       "      <td>NaN</td>\n",
       "      <td>Data missing or out of range</td>\n",
       "      <td>Single carriageway</td>\n",
       "      <td>Data missing or out of range</td>\n",
       "      <td>30.0</td>\n",
       "      <td>12:12:00</td>\n",
       "      <td>Urban</td>\n",
       "      <td>Unknown</td>\n",
       "      <td>2005</td>\n",
       "      <td>No</td>\n",
       "    </tr>\n",
       "    <tr>\n",
       "      <th>32462</th>\n",
       "      <td>A</td>\n",
       "      <td>666.0</td>\n",
       "      <td>Slight</td>\n",
       "      <td>Data missing or out of range</td>\n",
       "      <td>2005-06-01</td>\n",
       "      <td>Wednesday</td>\n",
       "      <td>NaN</td>\n",
       "      <td>Auto traffic signal</td>\n",
       "      <td>T or staggered junction</td>\n",
       "      <td>53.694066</td>\n",
       "      <td>...</td>\n",
       "      <td>NaN</td>\n",
       "      <td>Data missing or out of range</td>\n",
       "      <td>Single carriageway</td>\n",
       "      <td>Data missing or out of range</td>\n",
       "      <td>30.0</td>\n",
       "      <td>16:30:00</td>\n",
       "      <td>Urban</td>\n",
       "      <td>Unknown</td>\n",
       "      <td>2005</td>\n",
       "      <td>No</td>\n",
       "    </tr>\n",
       "    <tr>\n",
       "      <th>33558</th>\n",
       "      <td>Unclassified</td>\n",
       "      <td>0.0</td>\n",
       "      <td>Slight</td>\n",
       "      <td>Data missing or out of range</td>\n",
       "      <td>2005-11-03</td>\n",
       "      <td>Thursday</td>\n",
       "      <td>NaN</td>\n",
       "      <td>Data missing or out of range</td>\n",
       "      <td>Data missing or out of range</td>\n",
       "      <td>53.799722</td>\n",
       "      <td>...</td>\n",
       "      <td>NaN</td>\n",
       "      <td>Data missing or out of range</td>\n",
       "      <td>Single carriageway</td>\n",
       "      <td>Data missing or out of range</td>\n",
       "      <td>30.0</td>\n",
       "      <td>13:55:00</td>\n",
       "      <td>Urban</td>\n",
       "      <td>Unknown</td>\n",
       "      <td>2005</td>\n",
       "      <td>No</td>\n",
       "    </tr>\n",
       "    <tr>\n",
       "      <th>33874</th>\n",
       "      <td>Unclassified</td>\n",
       "      <td>0.0</td>\n",
       "      <td>Slight</td>\n",
       "      <td>Data missing or out of range</td>\n",
       "      <td>2005-12-24</td>\n",
       "      <td>Saturday</td>\n",
       "      <td>NaN</td>\n",
       "      <td>Data missing or out of range</td>\n",
       "      <td>Data missing or out of range</td>\n",
       "      <td>53.828710</td>\n",
       "      <td>...</td>\n",
       "      <td>NaN</td>\n",
       "      <td>Data missing or out of range</td>\n",
       "      <td>Single carriageway</td>\n",
       "      <td>Data missing or out of range</td>\n",
       "      <td>30.0</td>\n",
       "      <td>06:40:00</td>\n",
       "      <td>Urban</td>\n",
       "      <td>Unknown</td>\n",
       "      <td>2005</td>\n",
       "      <td>No</td>\n",
       "    </tr>\n",
       "    <tr>\n",
       "      <th>...</th>\n",
       "      <td>...</td>\n",
       "      <td>...</td>\n",
       "      <td>...</td>\n",
       "      <td>...</td>\n",
       "      <td>...</td>\n",
       "      <td>...</td>\n",
       "      <td>...</td>\n",
       "      <td>...</td>\n",
       "      <td>...</td>\n",
       "      <td>...</td>\n",
       "      <td>...</td>\n",
       "      <td>...</td>\n",
       "      <td>...</td>\n",
       "      <td>...</td>\n",
       "      <td>...</td>\n",
       "      <td>...</td>\n",
       "      <td>...</td>\n",
       "      <td>...</td>\n",
       "      <td>...</td>\n",
       "      <td>...</td>\n",
       "      <td>...</td>\n",
       "    </tr>\n",
       "    <tr>\n",
       "      <th>1733178</th>\n",
       "      <td>A</td>\n",
       "      <td>40.0</td>\n",
       "      <td>Slight</td>\n",
       "      <td>None</td>\n",
       "      <td>2015-01-14</td>\n",
       "      <td>Wednesday</td>\n",
       "      <td>NaN</td>\n",
       "      <td>Data missing or out of range</td>\n",
       "      <td>Not at junction or within 20 metres</td>\n",
       "      <td>51.567103</td>\n",
       "      <td>...</td>\n",
       "      <td>0.0</td>\n",
       "      <td>Wet or damp</td>\n",
       "      <td>Dual carriageway</td>\n",
       "      <td>None</td>\n",
       "      <td>40.0</td>\n",
       "      <td>08:38:00</td>\n",
       "      <td>Rural</td>\n",
       "      <td>Fine no high winds</td>\n",
       "      <td>2015</td>\n",
       "      <td>No</td>\n",
       "    </tr>\n",
       "    <tr>\n",
       "      <th>1733368</th>\n",
       "      <td>Unclassified</td>\n",
       "      <td>3121.0</td>\n",
       "      <td>Serious</td>\n",
       "      <td>None</td>\n",
       "      <td>2015-01-23</td>\n",
       "      <td>Friday</td>\n",
       "      <td>NaN</td>\n",
       "      <td>Give way or uncontrolled</td>\n",
       "      <td>T or staggered junction</td>\n",
       "      <td>51.630958</td>\n",
       "      <td>...</td>\n",
       "      <td>0.0</td>\n",
       "      <td>Wet or damp</td>\n",
       "      <td>Single carriageway</td>\n",
       "      <td>None</td>\n",
       "      <td>30.0</td>\n",
       "      <td>20:55:00</td>\n",
       "      <td>Urban</td>\n",
       "      <td>Raining no high winds</td>\n",
       "      <td>2015</td>\n",
       "      <td>No</td>\n",
       "    </tr>\n",
       "    <tr>\n",
       "      <th>1733438</th>\n",
       "      <td>Motorway</td>\n",
       "      <td>25.0</td>\n",
       "      <td>Slight</td>\n",
       "      <td>None</td>\n",
       "      <td>2015-04-19</td>\n",
       "      <td>Sunday</td>\n",
       "      <td>NaN</td>\n",
       "      <td>Data missing or out of range</td>\n",
       "      <td>Not at junction or within 20 metres</td>\n",
       "      <td>51.495307</td>\n",
       "      <td>...</td>\n",
       "      <td>0.0</td>\n",
       "      <td>Dry</td>\n",
       "      <td>Slip road</td>\n",
       "      <td>None</td>\n",
       "      <td>70.0</td>\n",
       "      <td>12:00:00</td>\n",
       "      <td>Rural</td>\n",
       "      <td>Fine no high winds</td>\n",
       "      <td>2015</td>\n",
       "      <td>No</td>\n",
       "    </tr>\n",
       "    <tr>\n",
       "      <th>1733759</th>\n",
       "      <td>A</td>\n",
       "      <td>412.0</td>\n",
       "      <td>Slight</td>\n",
       "      <td>None</td>\n",
       "      <td>2015-05-29</td>\n",
       "      <td>Friday</td>\n",
       "      <td>NaN</td>\n",
       "      <td>Data missing or out of range</td>\n",
       "      <td>Not at junction or within 20 metres</td>\n",
       "      <td>51.542866</td>\n",
       "      <td>...</td>\n",
       "      <td>4.0</td>\n",
       "      <td>Dry</td>\n",
       "      <td>Single carriageway</td>\n",
       "      <td>None</td>\n",
       "      <td>30.0</td>\n",
       "      <td>19:53:00</td>\n",
       "      <td>Rural</td>\n",
       "      <td>Fine no high winds</td>\n",
       "      <td>2015</td>\n",
       "      <td>No</td>\n",
       "    </tr>\n",
       "    <tr>\n",
       "      <th>1733827</th>\n",
       "      <td>C</td>\n",
       "      <td>66.0</td>\n",
       "      <td>Serious</td>\n",
       "      <td>None</td>\n",
       "      <td>2015-09-23</td>\n",
       "      <td>Wednesday</td>\n",
       "      <td>NaN</td>\n",
       "      <td>Data missing or out of range</td>\n",
       "      <td>Not at junction or within 20 metres</td>\n",
       "      <td>51.807827</td>\n",
       "      <td>...</td>\n",
       "      <td>0.0</td>\n",
       "      <td>Dry</td>\n",
       "      <td>Single carriageway</td>\n",
       "      <td>None</td>\n",
       "      <td>60.0</td>\n",
       "      <td>09:30:00</td>\n",
       "      <td>Rural</td>\n",
       "      <td>Fine no high winds</td>\n",
       "      <td>2015</td>\n",
       "      <td>No</td>\n",
       "    </tr>\n",
       "  </tbody>\n",
       "</table>\n",
       "<p>278 rows × 26 columns</p>\n",
       "</div>"
      ],
      "text/plain": [
       "        1st_Road_Class  1st_Road_Number Accident_Severity  \\\n",
       "29084     Unclassified              0.0            Slight   \n",
       "29735                A              6.0            Slight   \n",
       "32462                A            666.0            Slight   \n",
       "33558     Unclassified              0.0            Slight   \n",
       "33874     Unclassified              0.0            Slight   \n",
       "...                ...              ...               ...   \n",
       "1733178              A             40.0            Slight   \n",
       "1733368   Unclassified           3121.0           Serious   \n",
       "1733438       Motorway             25.0            Slight   \n",
       "1733759              A            412.0            Slight   \n",
       "1733827              C             66.0           Serious   \n",
       "\n",
       "                  Carriageway_Hazards       Date Day_of_Week  \\\n",
       "29084    Data missing or out of range 2005-11-30   Wednesday   \n",
       "29735    Data missing or out of range 2005-05-18   Wednesday   \n",
       "32462    Data missing or out of range 2005-06-01   Wednesday   \n",
       "33558    Data missing or out of range 2005-11-03    Thursday   \n",
       "33874    Data missing or out of range 2005-12-24    Saturday   \n",
       "...                               ...        ...         ...   \n",
       "1733178                          None 2015-01-14   Wednesday   \n",
       "1733368                          None 2015-01-23      Friday   \n",
       "1733438                          None 2015-04-19      Sunday   \n",
       "1733759                          None 2015-05-29      Friday   \n",
       "1733827                          None 2015-09-23   Wednesday   \n",
       "\n",
       "         Did_Police_Officer_Attend_Scene_of_Accident  \\\n",
       "29084                                            NaN   \n",
       "29735                                            NaN   \n",
       "32462                                            NaN   \n",
       "33558                                            NaN   \n",
       "33874                                            NaN   \n",
       "...                                              ...   \n",
       "1733178                                          NaN   \n",
       "1733368                                          NaN   \n",
       "1733438                                          NaN   \n",
       "1733759                                          NaN   \n",
       "1733827                                          NaN   \n",
       "\n",
       "                     Junction_Control                      Junction_Detail  \\\n",
       "29084    Data missing or out of range         Data missing or out of range   \n",
       "29735    Data missing or out of range         Data missing or out of range   \n",
       "32462             Auto traffic signal              T or staggered junction   \n",
       "33558    Data missing or out of range         Data missing or out of range   \n",
       "33874    Data missing or out of range         Data missing or out of range   \n",
       "...                               ...                                  ...   \n",
       "1733178  Data missing or out of range  Not at junction or within 20 metres   \n",
       "1733368      Give way or uncontrolled              T or staggered junction   \n",
       "1733438  Data missing or out of range  Not at junction or within 20 metres   \n",
       "1733759  Data missing or out of range  Not at junction or within 20 metres   \n",
       "1733827  Data missing or out of range  Not at junction or within 20 metres   \n",
       "\n",
       "          Latitude  ... Pedestrian_Crossing-Physical_Facilities  \\\n",
       "29084    53.783349  ...                                     NaN   \n",
       "29735    54.048796  ...                                     NaN   \n",
       "32462    53.694066  ...                                     NaN   \n",
       "33558    53.799722  ...                                     NaN   \n",
       "33874    53.828710  ...                                     NaN   \n",
       "...            ...  ...                                     ...   \n",
       "1733178  51.567103  ...                                     0.0   \n",
       "1733368  51.630958  ...                                     0.0   \n",
       "1733438  51.495307  ...                                     0.0   \n",
       "1733759  51.542866  ...                                     4.0   \n",
       "1733827  51.807827  ...                                     0.0   \n",
       "\n",
       "              Road_Surface_Conditions           Road_Type  \\\n",
       "29084    Data missing or out of range  Single carriageway   \n",
       "29735    Data missing or out of range  Single carriageway   \n",
       "32462    Data missing or out of range  Single carriageway   \n",
       "33558    Data missing or out of range  Single carriageway   \n",
       "33874    Data missing or out of range  Single carriageway   \n",
       "...                               ...                 ...   \n",
       "1733178                   Wet or damp    Dual carriageway   \n",
       "1733368                   Wet or damp  Single carriageway   \n",
       "1733438                           Dry           Slip road   \n",
       "1733759                           Dry  Single carriageway   \n",
       "1733827                           Dry  Single carriageway   \n",
       "\n",
       "           Special_Conditions_at_Site  Speed_limit      Time  \\\n",
       "29084    Data missing or out of range         30.0       NaT   \n",
       "29735    Data missing or out of range         30.0  12:12:00   \n",
       "32462    Data missing or out of range         30.0  16:30:00   \n",
       "33558    Data missing or out of range         30.0  13:55:00   \n",
       "33874    Data missing or out of range         30.0  06:40:00   \n",
       "...                               ...          ...       ...   \n",
       "1733178                          None         40.0  08:38:00   \n",
       "1733368                          None         30.0  20:55:00   \n",
       "1733438                          None         70.0  12:00:00   \n",
       "1733759                          None         30.0  19:53:00   \n",
       "1733827                          None         60.0  09:30:00   \n",
       "\n",
       "         Urban_or_Rural_Area     Weather_Conditions  Year InScotland  \n",
       "29084                  Urban                Unknown  2005         No  \n",
       "29735                  Urban                Unknown  2005         No  \n",
       "32462                  Urban                Unknown  2005         No  \n",
       "33558                  Urban                Unknown  2005         No  \n",
       "33874                  Urban                Unknown  2005         No  \n",
       "...                      ...                    ...   ...        ...  \n",
       "1733178                Rural     Fine no high winds  2015         No  \n",
       "1733368                Urban  Raining no high winds  2015         No  \n",
       "1733438                Rural     Fine no high winds  2015         No  \n",
       "1733759                Rural     Fine no high winds  2015         No  \n",
       "1733827                Rural     Fine no high winds  2015         No  \n",
       "\n",
       "[278 rows x 26 columns]"
      ]
     },
     "execution_count": 53,
     "metadata": {},
     "output_type": "execute_result"
    }
   ],
   "source": [
    "data=df[df['Did_Police_Officer_Attend_Scene_of_Accident'].isnull()]\n",
    "data"
   ]
  },
  {
   "cell_type": "code",
   "execution_count": 54,
   "id": "2de1f017",
   "metadata": {},
   "outputs": [
    {
     "name": "stdout",
     "output_type": "stream",
     "text": [
      "[ 1.  2.  3. nan]\n"
     ]
    }
   ],
   "source": [
    "print(df['Did_Police_Officer_Attend_Scene_of_Accident'].unique())"
   ]
  },
  {
   "cell_type": "code",
   "execution_count": 55,
   "id": "f268a26f",
   "metadata": {},
   "outputs": [],
   "source": [
    "#using mode to fill the nan values with the mode of the non missing values.\n",
    "df1 = df['Did_Police_Officer_Attend_Scene_of_Accident'].mode()[0]\n",
    "df['Did_Police_Officer_Attend_Scene_of_Accident'].fillna(df1, inplace=True)\n"
   ]
  },
  {
   "cell_type": "code",
   "execution_count": 56,
   "id": "ac9d5d18",
   "metadata": {},
   "outputs": [
    {
     "data": {
      "text/html": [
       "<div>\n",
       "<style scoped>\n",
       "    .dataframe tbody tr th:only-of-type {\n",
       "        vertical-align: middle;\n",
       "    }\n",
       "\n",
       "    .dataframe tbody tr th {\n",
       "        vertical-align: top;\n",
       "    }\n",
       "\n",
       "    .dataframe thead th {\n",
       "        text-align: right;\n",
       "    }\n",
       "</style>\n",
       "<table border=\"1\" class=\"dataframe\">\n",
       "  <thead>\n",
       "    <tr style=\"text-align: right;\">\n",
       "      <th></th>\n",
       "      <th>1st_Road_Class</th>\n",
       "      <th>1st_Road_Number</th>\n",
       "      <th>Accident_Severity</th>\n",
       "      <th>Carriageway_Hazards</th>\n",
       "      <th>Date</th>\n",
       "      <th>Day_of_Week</th>\n",
       "      <th>Did_Police_Officer_Attend_Scene_of_Accident</th>\n",
       "      <th>Junction_Control</th>\n",
       "      <th>Junction_Detail</th>\n",
       "      <th>Latitude</th>\n",
       "      <th>...</th>\n",
       "      <th>Pedestrian_Crossing-Physical_Facilities</th>\n",
       "      <th>Road_Surface_Conditions</th>\n",
       "      <th>Road_Type</th>\n",
       "      <th>Special_Conditions_at_Site</th>\n",
       "      <th>Speed_limit</th>\n",
       "      <th>Time</th>\n",
       "      <th>Urban_or_Rural_Area</th>\n",
       "      <th>Weather_Conditions</th>\n",
       "      <th>Year</th>\n",
       "      <th>InScotland</th>\n",
       "    </tr>\n",
       "  </thead>\n",
       "  <tbody>\n",
       "  </tbody>\n",
       "</table>\n",
       "<p>0 rows × 26 columns</p>\n",
       "</div>"
      ],
      "text/plain": [
       "Empty DataFrame\n",
       "Columns: [1st_Road_Class, 1st_Road_Number, Accident_Severity, Carriageway_Hazards, Date, Day_of_Week, Did_Police_Officer_Attend_Scene_of_Accident, Junction_Control, Junction_Detail, Latitude, Light_Conditions, Longitude, LSOA_of_Accident_Location, Number_of_Casualties, Number_of_Vehicles, Pedestrian_Crossing-Human_Control, Pedestrian_Crossing-Physical_Facilities, Road_Surface_Conditions, Road_Type, Special_Conditions_at_Site, Speed_limit, Time, Urban_or_Rural_Area, Weather_Conditions, Year, InScotland]\n",
       "Index: []\n",
       "\n",
       "[0 rows x 26 columns]"
      ]
     },
     "execution_count": 56,
     "metadata": {},
     "output_type": "execute_result"
    }
   ],
   "source": [
    "data=df[df['Did_Police_Officer_Attend_Scene_of_Accident'].isnull()]\n",
    "data"
   ]
  },
  {
   "cell_type": "code",
   "execution_count": 57,
   "id": "b4db97ca",
   "metadata": {},
   "outputs": [],
   "source": [
    "# Remove rows with missing values in the 'LSOA_of_Accident_Location' column\n",
    "df = df.dropna(subset=['LSOA_of_Accident_Location'])"
   ]
  },
  {
   "cell_type": "code",
   "execution_count": 58,
   "id": "b723569f",
   "metadata": {},
   "outputs": [],
   "source": [
    "#Fill missing Pedestrian_Crossing-Human_Control values with the mode\n",
    "df1 = df['Pedestrian_Crossing-Human_Control'].mode()[0]\n",
    "df['Pedestrian_Crossing-Human_Control'].fillna(df1, inplace=True)"
   ]
  },
  {
   "cell_type": "code",
   "execution_count": 59,
   "id": "240cec64",
   "metadata": {},
   "outputs": [],
   "source": [
    "#Fill missing Pedestrian_Crossing-Physical_Facilities values with the mode\n",
    "df1 = df['Pedestrian_Crossing-Physical_Facilities'].mode()[0]\n",
    "df['Pedestrian_Crossing-Physical_Facilities'].fillna(df1, inplace=True)\n"
   ]
  },
  {
   "cell_type": "code",
   "execution_count": 60,
   "id": "6ededd84",
   "metadata": {},
   "outputs": [],
   "source": [
    "#fill the missing values in the 'Speed limit' column with corresponding median speed limit for the road type\n",
    "df1 = df.groupby('Road_Type')['Speed_limit'].median()\n",
    "df['Speed_limit'] = df.apply(lambda x: df1[x['Road_Type']] if pd.isna(x['Speed_limit']) else x['Speed_limit'], axis=1)"
   ]
  },
  {
   "cell_type": "code",
   "execution_count": 61,
   "id": "6c071874",
   "metadata": {},
   "outputs": [],
   "source": [
    "#fill missing value in 'Time' with mode\n",
    "df1 = df['Time'].mode()[0]\n",
    "df['Time'].fillna(df1, inplace=True)"
   ]
  },
  {
   "cell_type": "code",
   "execution_count": 62,
   "id": "6810bf7c",
   "metadata": {},
   "outputs": [
    {
     "data": {
      "text/plain": [
       "1st_Road_Class                                 0\n",
       "1st_Road_Number                                0\n",
       "Accident_Severity                              0\n",
       "Carriageway_Hazards                            0\n",
       "Date                                           0\n",
       "Day_of_Week                                    0\n",
       "Did_Police_Officer_Attend_Scene_of_Accident    0\n",
       "Junction_Control                               0\n",
       "Junction_Detail                                0\n",
       "Latitude                                       0\n",
       "Light_Conditions                               0\n",
       "Longitude                                      0\n",
       "LSOA_of_Accident_Location                      0\n",
       "Number_of_Casualties                           0\n",
       "Number_of_Vehicles                             0\n",
       "Pedestrian_Crossing-Human_Control              0\n",
       "Pedestrian_Crossing-Physical_Facilities        0\n",
       "Road_Surface_Conditions                        0\n",
       "Road_Type                                      0\n",
       "Special_Conditions_at_Site                     0\n",
       "Speed_limit                                    0\n",
       "Time                                           0\n",
       "Urban_or_Rural_Area                            0\n",
       "Weather_Conditions                             0\n",
       "Year                                           0\n",
       "InScotland                                     0\n",
       "dtype: int64"
      ]
     },
     "execution_count": 62,
     "metadata": {},
     "output_type": "execute_result"
    }
   ],
   "source": [
    "df.isnull().sum()"
   ]
  },
  {
   "cell_type": "code",
   "execution_count": 63,
   "id": "62057d27",
   "metadata": {},
   "outputs": [
    {
     "data": {
      "text/plain": [
       "Index(['1st_Road_Class', '1st_Road_Number', 'Accident_Severity',\n",
       "       'Carriageway_Hazards', 'Date', 'Day_of_Week',\n",
       "       'Did_Police_Officer_Attend_Scene_of_Accident', 'Junction_Control',\n",
       "       'Junction_Detail', 'Latitude', 'Light_Conditions', 'Longitude',\n",
       "       'LSOA_of_Accident_Location', 'Number_of_Casualties',\n",
       "       'Number_of_Vehicles', 'Pedestrian_Crossing-Human_Control',\n",
       "       'Pedestrian_Crossing-Physical_Facilities', 'Road_Surface_Conditions',\n",
       "       'Road_Type', 'Special_Conditions_at_Site', 'Speed_limit', 'Time',\n",
       "       'Urban_or_Rural_Area', 'Weather_Conditions', 'Year', 'InScotland'],\n",
       "      dtype='object')"
      ]
     },
     "execution_count": 63,
     "metadata": {},
     "output_type": "execute_result"
    }
   ],
   "source": [
    "df.columns"
   ]
  },
  {
   "cell_type": "markdown",
   "id": "97ab0619",
   "metadata": {},
   "source": [
    "## Exporting the Cleaned Dataset as CSV for next steps "
   ]
  },
  {
   "cell_type": "code",
   "execution_count": 64,
   "id": "902f58ac",
   "metadata": {},
   "outputs": [
    {
     "data": {
      "text/plain": [
       "(1902303, 26)"
      ]
     },
     "execution_count": 64,
     "metadata": {},
     "output_type": "execute_result"
    }
   ],
   "source": [
    "df.shape"
   ]
  },
  {
   "cell_type": "code",
   "execution_count": 65,
   "id": "dfacd0a0",
   "metadata": {},
   "outputs": [],
   "source": [
    "# saving the dataframe to csv \n",
    "df.to_csv('UK Road Safety cleaned data.csv',index=False)"
   ]
  },
  {
   "cell_type": "code",
   "execution_count": 66,
   "id": "9b78b758",
   "metadata": {},
   "outputs": [
    {
     "data": {
      "text/html": [
       "<div>\n",
       "<style scoped>\n",
       "    .dataframe tbody tr th:only-of-type {\n",
       "        vertical-align: middle;\n",
       "    }\n",
       "\n",
       "    .dataframe tbody tr th {\n",
       "        vertical-align: top;\n",
       "    }\n",
       "\n",
       "    .dataframe thead th {\n",
       "        text-align: right;\n",
       "    }\n",
       "</style>\n",
       "<table border=\"1\" class=\"dataframe\">\n",
       "  <thead>\n",
       "    <tr style=\"text-align: right;\">\n",
       "      <th></th>\n",
       "      <th>1st_Road_Class</th>\n",
       "      <th>1st_Road_Number</th>\n",
       "      <th>Accident_Severity</th>\n",
       "      <th>Carriageway_Hazards</th>\n",
       "      <th>Date</th>\n",
       "      <th>Day_of_Week</th>\n",
       "      <th>Did_Police_Officer_Attend_Scene_of_Accident</th>\n",
       "      <th>Junction_Control</th>\n",
       "      <th>Junction_Detail</th>\n",
       "      <th>Latitude</th>\n",
       "      <th>...</th>\n",
       "      <th>Pedestrian_Crossing-Physical_Facilities</th>\n",
       "      <th>Road_Surface_Conditions</th>\n",
       "      <th>Road_Type</th>\n",
       "      <th>Special_Conditions_at_Site</th>\n",
       "      <th>Speed_limit</th>\n",
       "      <th>Time</th>\n",
       "      <th>Urban_or_Rural_Area</th>\n",
       "      <th>Weather_Conditions</th>\n",
       "      <th>Year</th>\n",
       "      <th>InScotland</th>\n",
       "    </tr>\n",
       "  </thead>\n",
       "  <tbody>\n",
       "    <tr>\n",
       "      <th>0</th>\n",
       "      <td>A</td>\n",
       "      <td>3218.0</td>\n",
       "      <td>Serious</td>\n",
       "      <td>None</td>\n",
       "      <td>2005-01-04</td>\n",
       "      <td>Tuesday</td>\n",
       "      <td>1.0</td>\n",
       "      <td>Data missing or out of range</td>\n",
       "      <td>Not at junction or within 20 metres</td>\n",
       "      <td>51.489096</td>\n",
       "      <td>...</td>\n",
       "      <td>1.0</td>\n",
       "      <td>Wet or damp</td>\n",
       "      <td>Single carriageway</td>\n",
       "      <td>None</td>\n",
       "      <td>30.0</td>\n",
       "      <td>17:42:00</td>\n",
       "      <td>Urban</td>\n",
       "      <td>Raining no high winds</td>\n",
       "      <td>2005</td>\n",
       "      <td>No</td>\n",
       "    </tr>\n",
       "    <tr>\n",
       "      <th>1</th>\n",
       "      <td>B</td>\n",
       "      <td>450.0</td>\n",
       "      <td>Slight</td>\n",
       "      <td>None</td>\n",
       "      <td>2005-01-05</td>\n",
       "      <td>Wednesday</td>\n",
       "      <td>1.0</td>\n",
       "      <td>Auto traffic signal</td>\n",
       "      <td>Crossroads</td>\n",
       "      <td>51.520075</td>\n",
       "      <td>...</td>\n",
       "      <td>5.0</td>\n",
       "      <td>Dry</td>\n",
       "      <td>Dual carriageway</td>\n",
       "      <td>None</td>\n",
       "      <td>30.0</td>\n",
       "      <td>17:36:00</td>\n",
       "      <td>Urban</td>\n",
       "      <td>Fine no high winds</td>\n",
       "      <td>2005</td>\n",
       "      <td>No</td>\n",
       "    </tr>\n",
       "    <tr>\n",
       "      <th>2</th>\n",
       "      <td>C</td>\n",
       "      <td>0.0</td>\n",
       "      <td>Slight</td>\n",
       "      <td>None</td>\n",
       "      <td>2005-01-06</td>\n",
       "      <td>Thursday</td>\n",
       "      <td>1.0</td>\n",
       "      <td>Data missing or out of range</td>\n",
       "      <td>Not at junction or within 20 metres</td>\n",
       "      <td>51.525301</td>\n",
       "      <td>...</td>\n",
       "      <td>0.0</td>\n",
       "      <td>Dry</td>\n",
       "      <td>Single carriageway</td>\n",
       "      <td>None</td>\n",
       "      <td>30.0</td>\n",
       "      <td>00:15:00</td>\n",
       "      <td>Urban</td>\n",
       "      <td>Fine no high winds</td>\n",
       "      <td>2005</td>\n",
       "      <td>No</td>\n",
       "    </tr>\n",
       "    <tr>\n",
       "      <th>3</th>\n",
       "      <td>A</td>\n",
       "      <td>3220.0</td>\n",
       "      <td>Slight</td>\n",
       "      <td>None</td>\n",
       "      <td>2005-01-07</td>\n",
       "      <td>Friday</td>\n",
       "      <td>1.0</td>\n",
       "      <td>Data missing or out of range</td>\n",
       "      <td>Not at junction or within 20 metres</td>\n",
       "      <td>51.482442</td>\n",
       "      <td>...</td>\n",
       "      <td>0.0</td>\n",
       "      <td>Dry</td>\n",
       "      <td>Single carriageway</td>\n",
       "      <td>None</td>\n",
       "      <td>30.0</td>\n",
       "      <td>10:35:00</td>\n",
       "      <td>Urban</td>\n",
       "      <td>Fine no high winds</td>\n",
       "      <td>2005</td>\n",
       "      <td>No</td>\n",
       "    </tr>\n",
       "    <tr>\n",
       "      <th>4</th>\n",
       "      <td>Unclassified</td>\n",
       "      <td>0.0</td>\n",
       "      <td>Slight</td>\n",
       "      <td>None</td>\n",
       "      <td>2005-01-10</td>\n",
       "      <td>Monday</td>\n",
       "      <td>1.0</td>\n",
       "      <td>Data missing or out of range</td>\n",
       "      <td>Not at junction or within 20 metres</td>\n",
       "      <td>51.495752</td>\n",
       "      <td>...</td>\n",
       "      <td>0.0</td>\n",
       "      <td>Wet or damp</td>\n",
       "      <td>Single carriageway</td>\n",
       "      <td>None</td>\n",
       "      <td>30.0</td>\n",
       "      <td>21:13:00</td>\n",
       "      <td>Urban</td>\n",
       "      <td>Fine no high winds</td>\n",
       "      <td>2005</td>\n",
       "      <td>No</td>\n",
       "    </tr>\n",
       "  </tbody>\n",
       "</table>\n",
       "<p>5 rows × 26 columns</p>\n",
       "</div>"
      ],
      "text/plain": [
       "  1st_Road_Class  1st_Road_Number Accident_Severity Carriageway_Hazards  \\\n",
       "0              A           3218.0           Serious                None   \n",
       "1              B            450.0            Slight                None   \n",
       "2              C              0.0            Slight                None   \n",
       "3              A           3220.0            Slight                None   \n",
       "4   Unclassified              0.0            Slight                None   \n",
       "\n",
       "         Date Day_of_Week  Did_Police_Officer_Attend_Scene_of_Accident  \\\n",
       "0  2005-01-04     Tuesday                                          1.0   \n",
       "1  2005-01-05   Wednesday                                          1.0   \n",
       "2  2005-01-06    Thursday                                          1.0   \n",
       "3  2005-01-07      Friday                                          1.0   \n",
       "4  2005-01-10      Monday                                          1.0   \n",
       "\n",
       "               Junction_Control                      Junction_Detail  \\\n",
       "0  Data missing or out of range  Not at junction or within 20 metres   \n",
       "1           Auto traffic signal                           Crossroads   \n",
       "2  Data missing or out of range  Not at junction or within 20 metres   \n",
       "3  Data missing or out of range  Not at junction or within 20 metres   \n",
       "4  Data missing or out of range  Not at junction or within 20 metres   \n",
       "\n",
       "    Latitude  ... Pedestrian_Crossing-Physical_Facilities  \\\n",
       "0  51.489096  ...                                     1.0   \n",
       "1  51.520075  ...                                     5.0   \n",
       "2  51.525301  ...                                     0.0   \n",
       "3  51.482442  ...                                     0.0   \n",
       "4  51.495752  ...                                     0.0   \n",
       "\n",
       "   Road_Surface_Conditions           Road_Type  Special_Conditions_at_Site  \\\n",
       "0              Wet or damp  Single carriageway                        None   \n",
       "1                      Dry    Dual carriageway                        None   \n",
       "2                      Dry  Single carriageway                        None   \n",
       "3                      Dry  Single carriageway                        None   \n",
       "4              Wet or damp  Single carriageway                        None   \n",
       "\n",
       "   Speed_limit      Time  Urban_or_Rural_Area     Weather_Conditions  Year  \\\n",
       "0         30.0  17:42:00                Urban  Raining no high winds  2005   \n",
       "1         30.0  17:36:00                Urban     Fine no high winds  2005   \n",
       "2         30.0  00:15:00                Urban     Fine no high winds  2005   \n",
       "3         30.0  10:35:00                Urban     Fine no high winds  2005   \n",
       "4         30.0  21:13:00                Urban     Fine no high winds  2005   \n",
       "\n",
       "  InScotland  \n",
       "0         No  \n",
       "1         No  \n",
       "2         No  \n",
       "3         No  \n",
       "4         No  \n",
       "\n",
       "[5 rows x 26 columns]"
      ]
     },
     "execution_count": 66,
     "metadata": {},
     "output_type": "execute_result"
    }
   ],
   "source": [
    "# Read saved file and display  top 5 rows \n",
    "df_new = pd.read_csv('UK Road Safety cleaned data.csv')\n",
    "df_new.head(n=5)"
   ]
  }
 ],
 "metadata": {
  "kernelspec": {
   "display_name": "Python 3 (ipykernel)",
   "language": "python",
   "name": "python3"
  },
  "language_info": {
   "codemirror_mode": {
    "name": "ipython",
    "version": 3
   },
   "file_extension": ".py",
   "mimetype": "text/x-python",
   "name": "python",
   "nbconvert_exporter": "python",
   "pygments_lexer": "ipython3",
   "version": "3.9.13"
  }
 },
 "nbformat": 4,
 "nbformat_minor": 5
}

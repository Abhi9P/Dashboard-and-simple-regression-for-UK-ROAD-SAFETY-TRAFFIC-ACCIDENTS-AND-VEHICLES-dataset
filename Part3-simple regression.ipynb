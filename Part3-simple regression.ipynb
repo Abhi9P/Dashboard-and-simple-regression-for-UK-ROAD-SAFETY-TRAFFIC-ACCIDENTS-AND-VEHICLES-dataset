{
 "cells": [
  {
   "cell_type": "code",
   "execution_count": 1,
   "id": "fe7e4052",
   "metadata": {},
   "outputs": [],
   "source": [
    "import pandas as pd\n",
    "from sklearn.linear_model import LinearRegression\n",
    "from sklearn.metrics import r2_score\n",
    "import numpy as np\n",
    "import logging"
   ]
  },
  {
   "cell_type": "code",
   "execution_count": 2,
   "id": "82cb0868",
   "metadata": {},
   "outputs": [],
   "source": [
    "df= pd.read_csv('UK Road Safety cleaned data.csv')"
   ]
  },
  {
   "cell_type": "code",
   "execution_count": 3,
   "id": "52a4c2bb",
   "metadata": {},
   "outputs": [
    {
     "data": {
      "text/plain": [
       "Index(['1st_Road_Class', '1st_Road_Number', 'Accident_Severity',\n",
       "       'Carriageway_Hazards', 'Date', 'Day_of_Week',\n",
       "       'Did_Police_Officer_Attend_Scene_of_Accident', 'Junction_Control',\n",
       "       'Junction_Detail', 'Latitude', 'Light_Conditions', 'Longitude',\n",
       "       'LSOA_of_Accident_Location', 'Number_of_Casualties',\n",
       "       'Number_of_Vehicles', 'Pedestrian_Crossing-Human_Control',\n",
       "       'Pedestrian_Crossing-Physical_Facilities', 'Road_Surface_Conditions',\n",
       "       'Road_Type', 'Special_Conditions_at_Site', 'Speed_limit', 'Time',\n",
       "       'Urban_or_Rural_Area', 'Weather_Conditions', 'Year', 'InScotland'],\n",
       "      dtype='object')"
      ]
     },
     "execution_count": 3,
     "metadata": {},
     "output_type": "execute_result"
    }
   ],
   "source": [
    "df.columns"
   ]
  },
  {
   "cell_type": "code",
   "execution_count": 14,
   "id": "512d9c4c",
   "metadata": {},
   "outputs": [],
   "source": [
    "# Select features and target variable\n",
    "X = df[['Speed_limit']]\n",
    "y = df['Number_of_Vehicles']"
   ]
  },
  {
   "cell_type": "code",
   "execution_count": 15,
   "id": "c5abbf6d",
   "metadata": {},
   "outputs": [],
   "source": [
    "# Split data into train, test, and new data\n",
    "train_size = 0.7\n",
    "test_size = 0.2\n",
    "new_size = 0.1\n",
    "\n",
    "train_end_idx = int(len(df)*train_size)\n",
    "test_end_idx = train_end_idx + int(len(df)*test_size)\n",
    "\n",
    "X_train, y_train = X[:train_end_idx], y[:train_end_idx]\n",
    "X_test, y_test = X[train_end_idx:test_end_idx], y[train_end_idx:test_end_idx]\n",
    "X_new, y_new = X[test_end_idx:], y[test_end_idx:]"
   ]
  },
  {
   "cell_type": "code",
   "execution_count": 16,
   "id": "87af91e1",
   "metadata": {},
   "outputs": [
    {
     "data": {
      "text/plain": [
       "LinearRegression()"
      ]
     },
     "execution_count": 16,
     "metadata": {},
     "output_type": "execute_result"
    }
   ],
   "source": [
    "# Train model\n",
    "model = LinearRegression()\n",
    "model.fit(X_train, y_train)\n"
   ]
  },
  {
   "cell_type": "code",
   "execution_count": 17,
   "id": "a49d0c79",
   "metadata": {},
   "outputs": [],
   "source": [
    "# Make predictions on train and test data\n",
    "y_train_pred = model.predict(X_train)\n",
    "y_test_pred = model.predict(X_test)\n"
   ]
  },
  {
   "cell_type": "code",
   "execution_count": 18,
   "id": "43fce583",
   "metadata": {},
   "outputs": [
    {
     "name": "stdout",
     "output_type": "stream",
     "text": [
      "Train R-squared value for the model: 0.01\n",
      "Test R-squared value for the model: 0.01\n"
     ]
    }
   ],
   "source": [
    "# Evaluate model accuracy\n",
    "train_r_squared = r2_score(y_train, y_train_pred)\n",
    "test_r_squared = r2_score(y_test, y_test_pred)\n",
    "print(f\"Train R-squared value for the model: {train_r_squared:.2f}\")\n",
    "print(f\"Test R-squared value for the model: {test_r_squared:.2f}\")\n"
   ]
  },
  {
   "cell_type": "code",
   "execution_count": 19,
   "id": "3481fb68",
   "metadata": {},
   "outputs": [],
   "source": [
    "# Write log file\n",
    "logging.basicConfig(filename='regression_log.txt', level=logging.INFO)\n",
    "logging.info(f\"Train R-squared value for the model: {train_r_squared:.2f}\")\n",
    "logging.info(f\"Test R-squared value for the model: {test_r_squared:.2f}\")"
   ]
  },
  {
   "cell_type": "code",
   "execution_count": 28,
   "id": "904cb8c8",
   "metadata": {},
   "outputs": [],
   "source": [
    "# Score new data\n",
    "y_new_pred = model.predict(X_new)"
   ]
  },
  {
   "cell_type": "code",
   "execution_count": 30,
   "id": "5151efb4",
   "metadata": {},
   "outputs": [],
   "source": [
    "# Round predictions to nearest whole number\n",
    "y_test_pred = np.round(y_test_pred)\n",
    "y_new_pred = np.round(y_new_pred)"
   ]
  },
  {
   "cell_type": "code",
   "execution_count": 31,
   "id": "7b97c16b",
   "metadata": {},
   "outputs": [],
   "source": [
    "# Generate prediction file\n",
    "prediction_df = pd.DataFrame({'Speed Limit': X_new['Speed_limit'], 'Actual Number of Vehicles': y_new, 'Predicted Number of Vehicles': y_new_pred})\n",
    "prediction_df.to_csv('prediction.csv', index=False)"
   ]
  }
 ],
 "metadata": {
  "kernelspec": {
   "display_name": "Python 3 (ipykernel)",
   "language": "python",
   "name": "python3"
  },
  "language_info": {
   "codemirror_mode": {
    "name": "ipython",
    "version": 3
   },
   "file_extension": ".py",
   "mimetype": "text/x-python",
   "name": "python",
   "nbconvert_exporter": "python",
   "pygments_lexer": "ipython3",
   "version": "3.9.13"
  }
 },
 "nbformat": 4,
 "nbformat_minor": 5
}
